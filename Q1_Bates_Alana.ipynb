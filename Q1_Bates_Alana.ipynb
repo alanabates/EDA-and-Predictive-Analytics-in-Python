{
  "nbformat": 4,
  "nbformat_minor": 0,
  "metadata": {
    "colab": {
      "provenance": [],
      "collapsed_sections": [],
      "include_colab_link": true
    },
    "kernelspec": {
      "name": "python3",
      "display_name": "Python 3"
    }
  },
  "cells": [
    {
      "cell_type": "markdown",
      "metadata": {
        "id": "view-in-github",
        "colab_type": "text"
      },
      "source": [
        "<a href=\"https://colab.research.google.com/github/alanabates/EDA-and-Predictive-Analytics-in-Python/blob/main/Q1_Bates_Alana.ipynb\" target=\"_parent\"><img src=\"https://colab.research.google.com/assets/colab-badge.svg\" alt=\"Open In Colab\"/></a>"
      ]
    },
    {
      "cell_type": "code",
      "metadata": {
        "id": "oiBJ98-2d539"
      },
      "source": [
        "import numpy as np\n",
        "import matplotlib.pyplot as plt\n",
        "import seaborn as sns\n",
        "import pandas as pd\n",
        "\n",
        "from inspect import signature\n",
        "\n",
        "import sklearn\n",
        "from sklearn import linear_model, dummy, metrics\n",
        "from sklearn.linear_model import LogisticRegression\n",
        "from sklearn.dummy import DummyClassifier\n",
        "from sklearn.model_selection import train_test_split\n",
        "from sklearn.metrics import *"
      ],
      "execution_count": null,
      "outputs": []
    },
    {
      "cell_type": "code",
      "metadata": {
        "id": "9wMbATncd8l_",
        "outputId": "26248461-c99b-42c9-9cf5-4e828e694eea",
        "colab": {
          "base_uri": "https://localhost:8080/",
          "height": 224
        }
      },
      "source": [
        "column_names = [\"sex\", \"length\", \"diameter\", \"height\", \"whole weight\", \n",
        "                \"shucked weight\", \"viscera weight\", \"shell weight\", \"rings\"]\n",
        "\n",
        "url = 'https://archive.ics.uci.edu/ml/machine-learning-databases/abalone/abalone.data'\n",
        "\n",
        "df = pd.read_csv(url, names=column_names)\n",
        "print(\"Number of samples: %d\" % len(df))\n",
        "df.head()"
      ],
      "execution_count": null,
      "outputs": [
        {
          "output_type": "stream",
          "name": "stdout",
          "text": [
            "Number of samples: 4177\n"
          ]
        },
        {
          "output_type": "execute_result",
          "data": {
            "text/plain": [
              "  sex  length  diameter  height  whole weight  shucked weight  viscera weight  \\\n",
              "0   M   0.455     0.365   0.095        0.5140          0.2245          0.1010   \n",
              "1   M   0.350     0.265   0.090        0.2255          0.0995          0.0485   \n",
              "2   F   0.530     0.420   0.135        0.6770          0.2565          0.1415   \n",
              "3   M   0.440     0.365   0.125        0.5160          0.2155          0.1140   \n",
              "4   I   0.330     0.255   0.080        0.2050          0.0895          0.0395   \n",
              "\n",
              "   shell weight  rings  \n",
              "0         0.150     15  \n",
              "1         0.070      7  \n",
              "2         0.210      9  \n",
              "3         0.155     10  \n",
              "4         0.055      7  "
            ],
            "text/html": [
              "\n",
              "  <div id=\"df-d8684288-7377-4af5-aa9a-a21d431951e0\">\n",
              "    <div class=\"colab-df-container\">\n",
              "      <div>\n",
              "<style scoped>\n",
              "    .dataframe tbody tr th:only-of-type {\n",
              "        vertical-align: middle;\n",
              "    }\n",
              "\n",
              "    .dataframe tbody tr th {\n",
              "        vertical-align: top;\n",
              "    }\n",
              "\n",
              "    .dataframe thead th {\n",
              "        text-align: right;\n",
              "    }\n",
              "</style>\n",
              "<table border=\"1\" class=\"dataframe\">\n",
              "  <thead>\n",
              "    <tr style=\"text-align: right;\">\n",
              "      <th></th>\n",
              "      <th>sex</th>\n",
              "      <th>length</th>\n",
              "      <th>diameter</th>\n",
              "      <th>height</th>\n",
              "      <th>whole weight</th>\n",
              "      <th>shucked weight</th>\n",
              "      <th>viscera weight</th>\n",
              "      <th>shell weight</th>\n",
              "      <th>rings</th>\n",
              "    </tr>\n",
              "  </thead>\n",
              "  <tbody>\n",
              "    <tr>\n",
              "      <th>0</th>\n",
              "      <td>M</td>\n",
              "      <td>0.455</td>\n",
              "      <td>0.365</td>\n",
              "      <td>0.095</td>\n",
              "      <td>0.5140</td>\n",
              "      <td>0.2245</td>\n",
              "      <td>0.1010</td>\n",
              "      <td>0.150</td>\n",
              "      <td>15</td>\n",
              "    </tr>\n",
              "    <tr>\n",
              "      <th>1</th>\n",
              "      <td>M</td>\n",
              "      <td>0.350</td>\n",
              "      <td>0.265</td>\n",
              "      <td>0.090</td>\n",
              "      <td>0.2255</td>\n",
              "      <td>0.0995</td>\n",
              "      <td>0.0485</td>\n",
              "      <td>0.070</td>\n",
              "      <td>7</td>\n",
              "    </tr>\n",
              "    <tr>\n",
              "      <th>2</th>\n",
              "      <td>F</td>\n",
              "      <td>0.530</td>\n",
              "      <td>0.420</td>\n",
              "      <td>0.135</td>\n",
              "      <td>0.6770</td>\n",
              "      <td>0.2565</td>\n",
              "      <td>0.1415</td>\n",
              "      <td>0.210</td>\n",
              "      <td>9</td>\n",
              "    </tr>\n",
              "    <tr>\n",
              "      <th>3</th>\n",
              "      <td>M</td>\n",
              "      <td>0.440</td>\n",
              "      <td>0.365</td>\n",
              "      <td>0.125</td>\n",
              "      <td>0.5160</td>\n",
              "      <td>0.2155</td>\n",
              "      <td>0.1140</td>\n",
              "      <td>0.155</td>\n",
              "      <td>10</td>\n",
              "    </tr>\n",
              "    <tr>\n",
              "      <th>4</th>\n",
              "      <td>I</td>\n",
              "      <td>0.330</td>\n",
              "      <td>0.255</td>\n",
              "      <td>0.080</td>\n",
              "      <td>0.2050</td>\n",
              "      <td>0.0895</td>\n",
              "      <td>0.0395</td>\n",
              "      <td>0.055</td>\n",
              "      <td>7</td>\n",
              "    </tr>\n",
              "  </tbody>\n",
              "</table>\n",
              "</div>\n",
              "      <button class=\"colab-df-convert\" onclick=\"convertToInteractive('df-d8684288-7377-4af5-aa9a-a21d431951e0')\"\n",
              "              title=\"Convert this dataframe to an interactive table.\"\n",
              "              style=\"display:none;\">\n",
              "        \n",
              "  <svg xmlns=\"http://www.w3.org/2000/svg\" height=\"24px\"viewBox=\"0 0 24 24\"\n",
              "       width=\"24px\">\n",
              "    <path d=\"M0 0h24v24H0V0z\" fill=\"none\"/>\n",
              "    <path d=\"M18.56 5.44l.94 2.06.94-2.06 2.06-.94-2.06-.94-.94-2.06-.94 2.06-2.06.94zm-11 1L8.5 8.5l.94-2.06 2.06-.94-2.06-.94L8.5 2.5l-.94 2.06-2.06.94zm10 10l.94 2.06.94-2.06 2.06-.94-2.06-.94-.94-2.06-.94 2.06-2.06.94z\"/><path d=\"M17.41 7.96l-1.37-1.37c-.4-.4-.92-.59-1.43-.59-.52 0-1.04.2-1.43.59L10.3 9.45l-7.72 7.72c-.78.78-.78 2.05 0 2.83L4 21.41c.39.39.9.59 1.41.59.51 0 1.02-.2 1.41-.59l7.78-7.78 2.81-2.81c.8-.78.8-2.07 0-2.86zM5.41 20L4 18.59l7.72-7.72 1.47 1.35L5.41 20z\"/>\n",
              "  </svg>\n",
              "      </button>\n",
              "      \n",
              "  <style>\n",
              "    .colab-df-container {\n",
              "      display:flex;\n",
              "      flex-wrap:wrap;\n",
              "      gap: 12px;\n",
              "    }\n",
              "\n",
              "    .colab-df-convert {\n",
              "      background-color: #E8F0FE;\n",
              "      border: none;\n",
              "      border-radius: 50%;\n",
              "      cursor: pointer;\n",
              "      display: none;\n",
              "      fill: #1967D2;\n",
              "      height: 32px;\n",
              "      padding: 0 0 0 0;\n",
              "      width: 32px;\n",
              "    }\n",
              "\n",
              "    .colab-df-convert:hover {\n",
              "      background-color: #E2EBFA;\n",
              "      box-shadow: 0px 1px 2px rgba(60, 64, 67, 0.3), 0px 1px 3px 1px rgba(60, 64, 67, 0.15);\n",
              "      fill: #174EA6;\n",
              "    }\n",
              "\n",
              "    [theme=dark] .colab-df-convert {\n",
              "      background-color: #3B4455;\n",
              "      fill: #D2E3FC;\n",
              "    }\n",
              "\n",
              "    [theme=dark] .colab-df-convert:hover {\n",
              "      background-color: #434B5C;\n",
              "      box-shadow: 0px 1px 3px 1px rgba(0, 0, 0, 0.15);\n",
              "      filter: drop-shadow(0px 1px 2px rgba(0, 0, 0, 0.3));\n",
              "      fill: #FFFFFF;\n",
              "    }\n",
              "  </style>\n",
              "\n",
              "      <script>\n",
              "        const buttonEl =\n",
              "          document.querySelector('#df-d8684288-7377-4af5-aa9a-a21d431951e0 button.colab-df-convert');\n",
              "        buttonEl.style.display =\n",
              "          google.colab.kernel.accessAllowed ? 'block' : 'none';\n",
              "\n",
              "        async function convertToInteractive(key) {\n",
              "          const element = document.querySelector('#df-d8684288-7377-4af5-aa9a-a21d431951e0');\n",
              "          const dataTable =\n",
              "            await google.colab.kernel.invokeFunction('convertToInteractive',\n",
              "                                                     [key], {});\n",
              "          if (!dataTable) return;\n",
              "\n",
              "          const docLinkHtml = 'Like what you see? Visit the ' +\n",
              "            '<a target=\"_blank\" href=https://colab.research.google.com/notebooks/data_table.ipynb>data table notebook</a>'\n",
              "            + ' to learn more about interactive tables.';\n",
              "          element.innerHTML = '';\n",
              "          dataTable['output_type'] = 'display_data';\n",
              "          await google.colab.output.renderOutput(dataTable, element);\n",
              "          const docLink = document.createElement('div');\n",
              "          docLink.innerHTML = docLinkHtml;\n",
              "          element.appendChild(docLink);\n",
              "        }\n",
              "      </script>\n",
              "    </div>\n",
              "  </div>\n",
              "  "
            ]
          },
          "metadata": {},
          "execution_count": 2
        }
      ]
    },
    {
      "cell_type": "code",
      "metadata": {
        "id": "pLa7mjOJePHE",
        "outputId": "0f0dc78b-b416-4897-8d9e-8459663b9437",
        "colab": {
          "base_uri": "https://localhost:8080/",
          "height": 356
        }
      },
      "source": [
        "correlation_matrix = df.corr().round(2)\n",
        "# annot = True to print the values inside the square\n",
        "sns.heatmap(data=correlation_matrix, annot=True)"
      ],
      "execution_count": null,
      "outputs": [
        {
          "output_type": "execute_result",
          "data": {
            "text/plain": [
              "<matplotlib.axes._subplots.AxesSubplot at 0x7f13ffa2b3d0>"
            ]
          },
          "metadata": {},
          "execution_count": 3
        },
        {
          "output_type": "display_data",
          "data": {
            "text/plain": [
              "<Figure size 432x288 with 2 Axes>"
            ],
            "image/png": "[encoded data removed]"
          },
          "metadata": {
            "needs_background": "light"
          }
        }
      ]
    },
    {
      "cell_type": "markdown",
      "metadata": {
        "id": "8H6uPez8eTkH"
      },
      "source": [
        "Assume that we want to estimate weight of a sample through linear regression, based on the correlation matrix suggest two predictors.\n",
        "\n",
        "**Answer:** Based on the correlation matrix, two predictors of the weight of a sample are length and diameter. Both length and diameter are good predictors of the weight of a sample as there is a high correlation between both the length and diameter variables and each of the weight variables: whole weight, shucked weight, viscera weight, and shell weight. However, if we are simply trying to estimate the whole weight of a sample and not the shucked, viscera, and shell weight, then the best predictors of the whole weight of a sample are the shucked weight and viscera weight. Both the shucked and viscera weight variables have a high correlation with whole weight with a correlation of 0.97."
      ]
    },
    {
      "cell_type": "markdown",
      "source": [
        "Assume that we want to estimate diameter of a sample through linear regression, based on the correlation matrix suggest two predictors.\n",
        "\n",
        "**Answer:** If we want to estimate the diameter of a sample through linear regression, length and whole weight are the best predictors. Length has the highest correlation with diameter with a correlation of 0.99 and whole weight has the second highest correlation with diameter with a correlation of 0.93."
      ],
      "metadata": {
        "id": "DoWvnOleKwFb"
      }
    },
    {
      "cell_type": "code",
      "metadata": {
        "id": "z-Ki2TKneXIf"
      },
      "source": [
        "X = df[['length', 'diameter', 'height', 'whole weight', 'shucked weight',\n",
        "       'viscera weight', 'shell weight', 'rings']] # the predictors\n",
        "\n",
        "\n",
        "y = df['sex'] # the target"
      ],
      "execution_count": null,
      "outputs": []
    },
    {
      "cell_type": "code",
      "metadata": {
        "id": "EueVEvoqeaYD"
      },
      "source": [
        "#the test set will be 30% of the dataset\n",
        "X_train, X_test, y_train, y_test = train_test_split(X, y, test_size=0.3, random_state=42)"
      ],
      "execution_count": null,
      "outputs": []
    },
    {
      "cell_type": "markdown",
      "metadata": {
        "id": "kIO_p1pifaJs"
      },
      "source": [
        "Explain the purpose of spliting data into training and test sets?  Explain various considerations when performing this action? \n",
        "\n",
        "**Answer:** The purpose of splitting data into training and test sets is to ensure the model's predictions are accurate as splitting the data allows you to assess your model's performance after it has been trained. The training set is necessary to teach the model to make predictions as the model learns how to make predictions based on the data in the training set. The test set is needed to determine the predictive accuracy of the model. Without a test set, the model's predictive performance cannot be assessed and we would be unable to assess how well the model will generalize to an unknown dataset. When splitting data into training and test sets, an important consideration is what split percentage to use. The training set cannot be too small or the model will not have enough data to learn from and there needs to be enough data included in the test set to estimate the model's predictive performance. The data split percentage you chose may depend on a variety of factors such as how large the dataset is and what the model is intended to be used for. Additionally, it is important that the data split is randomized to eliminate potential bias."
      ]
    },
    {
      "cell_type": "markdown",
      "metadata": {
        "id": "W2UmqV7Jfdf9"
      },
      "source": [
        "Explain how the logistic regression algorithm works?\n",
        "\n",
        "**Answer:** The logistic regression algorithm is a classification algorithm used to predict the probability of an event or certain outcome occurring. Logistic regressions take in non-linear data and provides a binary and mutually exclusive output for binary classification problems. For non-binary classification problems, multinomial logistic regressions can be used where the output values is one of three or more classes. The logistic regression algorithm uses a link function called \"logit\" since there is no linear relationship between the variables. The logit function helps to fit the data and it makes up for the lack of  a linear relationship. Furthermore, the logistic regression algorithm predicts outputs as negative (i.e. \"No\") if they are close to 0 and positive (i.e. \"Yes\") if they are close to 1. \n"
      ]
    },
    {
      "cell_type": "code",
      "metadata": {
        "id": "xV3GydgVeeWL"
      },
      "source": [
        "#Building the Logistic regression object\n",
        "logisticRegr = LogisticRegression(solver='liblinear',fit_intercept=True)\n",
        "#using logistic model to fit training data\n",
        "logisticRegr.fit(X_train, y_train)\n",
        "#generating predicted classes for test data\n",
        "logis_pred = logisticRegr.predict(X_test)\n",
        "#generating predicted probabilites for test data\n",
        "logis_pred_prob = logisticRegr.predict_proba(X_test)"
      ],
      "execution_count": null,
      "outputs": []
    },
    {
      "cell_type": "code",
      "metadata": {
        "id": "VaVbrxnOehtg"
      },
      "source": [
        "#Building a \"dummy\" classifier that predicts every observation to be the most frequent class, in this case 'no-exit')\n",
        "dummy = DummyClassifier(strategy= 'most_frequent')\n",
        "dumb = dummy.fit(X_train,y_train)\n",
        "dumb_pred = dumb.predict(X_test)\n",
        "dumb_pred_prob = dumb.predict_proba(X_test)"
      ],
      "execution_count": null,
      "outputs": []
    },
    {
      "cell_type": "code",
      "metadata": {
        "id": "NF6Uj7MhemUX",
        "outputId": "87cf55c6-f3fa-4a18-d953-f117742f243e",
        "colab": {
          "base_uri": "https://localhost:8080/"
        }
      },
      "source": [
        "print(\"Test accuracy (Logistic Regression) =\", logisticRegr.score(X_test,y_test), end=\"\\n\\n\")\n",
        "\n",
        "print(\"Test accuracy (Dummy Classifier) =\", dumb.score(dumb_pred,y_test))"
      ],
      "execution_count": null,
      "outputs": [
        {
          "output_type": "stream",
          "name": "stdout",
          "text": [
            "Test accuracy (Logistic Regression) = 0.5685805422647527\n",
            "\n",
            "Test accuracy (Dummy Classifier) = 0.3652312599681021\n"
          ]
        }
      ]
    },
    {
      "cell_type": "code",
      "metadata": {
        "id": "nUJJQ9dxep4o",
        "outputId": "8c22009a-d8e5-4548-a25a-75b278bd1aad",
        "colab": {
          "base_uri": "https://localhost:8080/",
          "height": 468
        }
      },
      "source": [
        "#generating confusion matrix for classifier\n",
        "cm_dummy = confusion_matrix(y_test, logis_pred)\n",
        "#putting it into a dataframe for seaborn plot function\n",
        "cm_dummy_df = pd.DataFrame(cm_dummy)\n",
        "\n",
        "#Using a seaborn heatmap to plot confusion matrices\n",
        "#The dataframe is transposed to make Actual values on x-axis and predicted on y-axis\n",
        "#annot = True includes the numbers in each box\n",
        "#vmin and vmax just adjusts the color value\n",
        "fig, ax = plt.subplots(figsize = (7,7))\n",
        "sns.heatmap(cm_dummy_df.T, annot=True, annot_kws={\"size\": 15}, cmap=\"Oranges\", vmin=0, vmax=800, fmt='.0f', linewidths=1, linecolor=\"white\", cbar=False,\n",
        "           xticklabels=[\"Male\",\"Infant\", 'Female'], yticklabels=[\"Male\",\"Infant\", 'Female'])\n",
        "plt.ylabel(\"Predicted\", fontsize=15)\n",
        "plt.xlabel(\"Actual\", fontsize=15)\n",
        "ax.set_xticklabels([\"Male\",\"Infant\", 'Female'], fontsize=13)\n",
        "ax.set_yticklabels([\"Male\",\"Infant\", 'Female'], fontsize=13)\n",
        "plt.title(\"Confusion Matrix for 'Dummy' Classifier - Counts\", fontsize=15)\n",
        "\n",
        "plt.show()"
      ],
      "execution_count": null,
      "outputs": [
        {
          "output_type": "display_data",
          "data": {
            "text/plain": [
              "<Figure size 504x504 with 1 Axes>"
            ],
            "image/png": "[encoded data removed]"
          },
          "metadata": {
            "needs_background": "light"
          }
        }
      ]
    },
    {
      "cell_type": "markdown",
      "metadata": {
        "id": "VPP2rbPKevEw"
      },
      "source": [
        "Assume that we are interested in predicting Infants, what is the value of the following parameters (use the Confusion Matrix for Logstic Regression Classifier):\n",
        "\n",
        "True Postive: For predicting infants, the true positive value is 354.\n",
        "\n",
        "True Negative: For predicting infants, the true negative value is 650 (115 + 103 + 188 + 244).\n",
        "\n",
        "Recall: The recall value if we are predicting infants is 0.84 (354/(354+65))."
      ]
    },
    {
      "cell_type": "markdown",
      "metadata": {
        "id": "jDQ9XGIbewNH"
      },
      "source": [
        "Why do we make a distinction between type 1 and type 2 errors? Use an example to convey your point.\n",
        "\n",
        "**Answer:** Type 1 errors are false positives which means that the actual outcome value is negative but the model predicted the outcome to be positive. For example, if a patient received a positive diagnosis from a cancer screening when they in reality do not have cancer, that would be a Type 1 error. Type 2 errors are false negatives. With a Type 2 error, the model inaccurately predicts a negative outcome when the actual outcome is positive. An example of this would be if a patient received a negative diagnosis from their cancer screening when they actually do have cancer. \n",
        "\n",
        "What is the difference between clustering and classification?\n",
        "\n",
        "**Answer:** The main difference between clustering and classification is that clustering is a unsupervised machine learning problem whereas classification is a supervised machine learning problem. Since classification is a supervised machine learning problem, the model is trained using both input and output values. This means that the training data is labelled with classification. On the other hand, since clustering is a type of unsupervised machine learning, the model is only fed the input values. Another important difference between clustering and classification is what they are intended to be used for. Clustering is used to identify similarities between objects and group them together based on their similarities into clusters. An example of when clustering would be useful is for a company to create customer segments based on similar customer traits.Classification is used to classify data into two or more categories such as predicting if a customer will purchase a product as either a \"Yes\" or \"No\".  "
      ]
    },
    {
      "cell_type": "markdown",
      "source": [
        "What is a dummy classifier? Why would you prepare one?\n",
        "\n",
        "**Answer:** A dummy classifier is a model that makes predictions without trying to find patterns in the data, as if it were guessing. Preparing a dummy classifier helps you understand your model's performance by giving you a measure of baseline performance. This is helpful when improving on your model's performance as you can compare how your model is performing aganist the baseline set by the dummy classifier using performance metrics such as accuracy."
      ],
      "metadata": {
        "id": "FcS52vCZKa6r"
      }
    }
  ]
}