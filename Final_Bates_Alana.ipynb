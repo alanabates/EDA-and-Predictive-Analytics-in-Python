{
  "nbformat": 4,
  "nbformat_minor": 0,
  "metadata": {
    "colab": {
      "provenance": [],
      "collapsed_sections": [],
      "include_colab_link": true
    },
    "kernelspec": {
      "name": "python3",
      "display_name": "Python 3"
    }
  },
  "cells": [
    {
      "cell_type": "markdown",
      "metadata": {
        "id": "view-in-github",
        "colab_type": "text"
      },
      "source": [
        "<a href=\"https://colab.research.google.com/github/alanabates/EDA-and-Predictive-Analytics-in-Python/blob/main/Final_Bates_Alana.ipynb\" target=\"_parent\"><img src=\"https://colab.research.google.com/assets/colab-badge.svg\" alt=\"Open In Colab\"/></a>"
      ]
    },
    {
      "cell_type": "markdown",
      "metadata": {
        "id": "BbD3CO0-Cbd3"
      },
      "source": [
        "With what information does Bayes Theorem update our previous knowledge about the data parameters?\n",
        "\n",
        "**Answer:** Bayes Theorem develops the likelihood of an event occurring called a posterior probability based on data. The theorem states that an intital belief (the prior probability) can be improve upon with new data to come to an improved belief (posterior probability). "
      ]
    },
    {
      "cell_type": "markdown",
      "source": [],
      "metadata": {
        "id": "bCuDsRizfR_F"
      }
    },
    {
      "cell_type": "markdown",
      "metadata": {
        "id": "w5RvhnyGCgDL"
      },
      "source": [
        "What does the prior probability represent?\n",
        "\n",
        "**Answer:** The prior probability is the initial probability of an event occuring before new data is collected. Thus, the prior probability represents the basis assessment and probability of a particular outcome based on existing knowledge held before an experiment is performed."
      ]
    },
    {
      "cell_type": "markdown",
      "metadata": {
        "id": "9qwk8q9oDBTV"
      },
      "source": [
        "For the following exercises, work with the wine_flag_training and wine_flag_test data sets. Use either Python or R (or Excel) to solve each problem.\n",
        "\n",
        "Here are the links to the datasets:\n",
        "\n",
        "https://raw.githubusercontent.com/jjghockey/DESC624/main/wine_flag_test.csv\n",
        "\n",
        "https://raw.githubusercontent.com/jjghockey/DESC624/main/wine_flag_training.csv\n",
        "\n",
        "Create two contingency tables, one with Type and Alcohol_flag and another with Type and Sugar_flag.  \n",
        "Use the tables in the previous exercise to calculate: \n",
        "* The prior probability of Type = Red and Type = White.\n",
        "* The probability of high and low alcohol content.\n",
        "* The probability of high and low sugar content. \n",
        "* The conditional probabilities p(Alcohol_flag = High ∣ Type = Red) and p(Alcohol_flag = Low ∣ Type = Red). \n",
        "* The conditional probabilities p(Alcohol_flag = High ∣ Type = White) and p(Alcohol_flag = Low ∣ Type = White). \n",
        "* The conditional probabilities p(Sugar_flag = High ∣ Type = Red) and p(Sugar_flag = Low ∣ Type = Red). \n",
        "* The conditional probabilities p(Sugar_flag = High ∣ Type = White) and p(Sugar_flag = Low ∣ Type = White).\n",
        "\n",
        "Use the probabilities in the previous exercise to discuss \n",
        "* How likely it is that a randomly selected wine is red. \n",
        "* How likely it is that a randomly selected wine has a high alcohol content. \n",
        "* How likely it is that a randomly selected wine has a low sugar content. \n",
        "\n",
        "Use the conditional probabilities found earlier to discuss \n",
        "* What a typical white wine might have as its alcohol and sugar content. \n",
        "* What a typical red wine might have as its alcohol and sugar content. \n",
        "\n",
        "Create side‐by‐side bar graphs for Type, one with an overlay of Alcohol_flag and the other with an overlay of Sugar_flag. Compare the graphs to the conditional probabilities you calculated.\n",
        "\n",
        "Compute the posterior probability of Type = Red for a wine that is low in alcohol content and high in sugar content. Compute the posterior probability of Type = White for the same wine. \n",
        "\n",
        "Use your answers to the previous exercise to determine which type, red or white, is more probable for a wine with low alcohol and high sugar content. What would the Naïve Bayes classifier classify this wine as?\n",
        "\n",
        "Compute the posterior probability of Type = Red for a wine that is high in alcohol content and low in sugar content. Compute the posterior probability of Type = White for the same wine. \n",
        "Use your answers to the previous exercise to determine which type, red or white, is more probable for a wine with high alcohol and low sugar content. What would the Naïve Bayes classifier classify this wine as?\n",
        "\n",
        "Run the Naïve Bayes classifier to classify wines as white or red based on alcohol and sugar content. \n",
        "\n",
        "Evaluate the Naïve Bayes model on the wines_test data set. Display the results in a contingency table. Edit the row and column names of the table to make the table more readable. Include a total row and column.\n",
        "\n",
        "According to your table in the previous exercise, find the following values for the Naïve Bayes model:\n",
        "* Accuracy\n",
        "* Error rate\n",
        "\n",
        "According to your contingency table, find the following values for the Naïve Bayes model:\n",
        "* How often it correctly classifies red wines.\n",
        "* How often it correctly classifies white wines."
      ]
    },
    {
      "cell_type": "code",
      "source": [
        "#Python Packages\n",
        "import pandas as pd\n",
        "from sklearn import tree\n",
        "import pydotplus\n",
        "from sklearn.tree import DecisionTreeClassifier\n",
        "import matplotlib.pyplot as plt\n",
        "import matplotlib.image as pltimg\n",
        "import seaborn as sn\n",
        "import numpy as np \n",
        "from sklearn.model_selection import train_test_split  \n",
        "from sklearn.naive_bayes import GaussianNB \n",
        "from sklearn.naive_bayes import MultinomialNB \n",
        "from sklearn.naive_bayes import BernoulliNB\n",
        "\n",
        "from inspect import signature\n",
        "\n",
        "import sklearn\n",
        "from sklearn import linear_model, dummy, metrics\n",
        "from sklearn.dummy import DummyClassifier\n",
        "from sklearn.metrics import *"
      ],
      "metadata": {
        "id": "DpzVZ4TTmcd3"
      },
      "execution_count": null,
      "outputs": []
    },
    {
      "cell_type": "code",
      "source": [
        "#Installing python datatable\n",
        "!pip install datatable\n",
        "import datatable as dt\n",
        "\n",
        "from datatable import (dt, f, by, ifelse, update, sort,\n",
        "                       count, min, max, mean, sum, rowsum)"
      ],
      "metadata": {
        "colab": {
          "base_uri": "https://localhost:8080/",
          "height": 52
        },
        "id": "jiYDeCZNmhdY",
        "outputId": "cfd074d9-2feb-487d-9e9b-ac6198c1ce23"
      },
      "execution_count": null,
      "outputs": [
        {
          "output_type": "stream",
          "name": "stdout",
          "text": [
            "Looking in indexes: https://pypi.org/simple, https://us-python.pkg.dev/colab-wheels/public/simple/\n",
            "Requirement already satisfied: datatable in /usr/local/lib/python3.7/dist-packages (1.0.0)\n"
          ]
        },
        {
          "output_type": "display_data",
          "data": {
            "text/plain": [
              "<IPython.core.display.HTML object>"
            ],
            "text/html": [
              "<style type='text/css'>\n",
              ".datatable table.frame { margin-bottom: 0; }\n",
              ".datatable table.frame thead { border-bottom: none; }\n",
              ".datatable table.frame tr.coltypes td {  color: #FFFFFF;  line-height: 6px;  padding: 0 0.5em;}\n",
              ".datatable .bool    { background: #DDDD99; }\n",
              ".datatable .object  { background: #565656; }\n",
              ".datatable .int     { background: #5D9E5D; }\n",
              ".datatable .float   { background: #4040CC; }\n",
              ".datatable .str     { background: #CC4040; }\n",
              ".datatable .time    { background: #40CC40; }\n",
              ".datatable .row_index {  background: var(--jp-border-color3);  border-right: 1px solid var(--jp-border-color0);  color: var(--jp-ui-font-color3);  font-size: 9px;}\n",
              ".datatable .frame tbody td { text-align: left; }\n",
              ".datatable .frame tr.coltypes .row_index {  background: var(--jp-border-color0);}\n",
              ".datatable th:nth-child(2) { padding-left: 12px; }\n",
              ".datatable .hellipsis {  color: var(--jp-cell-editor-border-color);}\n",
              ".datatable .vellipsis {  background: var(--jp-layout-color0);  color: var(--jp-cell-editor-border-color);}\n",
              ".datatable .na {  color: var(--jp-cell-editor-border-color);  font-size: 80%;}\n",
              ".datatable .sp {  opacity: 0.25;}\n",
              ".datatable .footer { font-size: 9px; }\n",
              ".datatable .frame_dimensions {  background: var(--jp-border-color3);  border-top: 1px solid var(--jp-border-color0);  color: var(--jp-ui-font-color3);  display: inline-block;  opacity: 0.6;  padding: 1px 10px 1px 5px;}\n",
              "</style>\n"
            ]
          },
          "metadata": {}
        }
      ]
    },
    {
      "cell_type": "code",
      "source": [
        "#Python h2o-  the Machine Learning package we will be using.\n",
        "\n",
        "!apt-get install default-jre\n",
        "!java -version\n",
        "\n",
        "! pip install h2o\n",
        "\n",
        "#import h2o\n",
        "\n",
        "#h2o.init()\n",
        "#h2o.shutdown()"
      ],
      "metadata": {
        "colab": {
          "base_uri": "https://localhost:8080/"
        },
        "id": "zG-cQg7-oFi7",
        "outputId": "3d8b6e1a-97b9-46aa-e0d3-054875e1aea5"
      },
      "execution_count": null,
      "outputs": [
        {
          "output_type": "stream",
          "name": "stdout",
          "text": [
            "Reading package lists... Done\n",
            "Building dependency tree       \n",
            "Reading state information... Done\n",
            "default-jre is already the newest version (2:1.11-68ubuntu1~18.04.1).\n",
            "The following package was automatically installed and is no longer required:\n",
            "  libnvidia-common-460\n",
            "Use 'apt autoremove' to remove it.\n",
            "0 upgraded, 0 newly installed, 0 to remove and 49 not upgraded.\n",
            "openjdk version \"11.0.15\" 2022-04-19\n",
            "OpenJDK Runtime Environment (build 11.0.15+10-Ubuntu-0ubuntu0.18.04.1)\n",
            "OpenJDK 64-Bit Server VM (build 11.0.15+10-Ubuntu-0ubuntu0.18.04.1, mixed mode, sharing)\n",
            "Looking in indexes: https://pypi.org/simple, https://us-python.pkg.dev/colab-wheels/public/simple/\n",
            "Requirement already satisfied: h2o in /usr/local/lib/python3.7/dist-packages (3.36.1.2)\n",
            "Requirement already satisfied: tabulate in /usr/local/lib/python3.7/dist-packages (from h2o) (0.8.9)\n",
            "Requirement already satisfied: requests in /usr/local/lib/python3.7/dist-packages (from h2o) (2.23.0)\n",
            "Requirement already satisfied: future in /usr/local/lib/python3.7/dist-packages (from h2o) (0.16.0)\n",
            "Requirement already satisfied: certifi>=2017.4.17 in /usr/local/lib/python3.7/dist-packages (from requests->h2o) (2022.6.15)\n",
            "Requirement already satisfied: chardet<4,>=3.0.2 in /usr/local/lib/python3.7/dist-packages (from requests->h2o) (3.0.4)\n",
            "Requirement already satisfied: idna<3,>=2.5 in /usr/local/lib/python3.7/dist-packages (from requests->h2o) (2.10)\n",
            "Requirement already satisfied: urllib3!=1.25.0,!=1.25.1,<1.26,>=1.21.1 in /usr/local/lib/python3.7/dist-packages (from requests->h2o) (1.24.3)\n"
          ]
        }
      ]
    },
    {
      "cell_type": "code",
      "source": [
        "#Loading Data in Python\n",
        "winetrain_p = dt.fread(\"https://raw.githubusercontent.com/jjghockey/DESC624/main/wine_flag_training.csv\")\n",
        "winetrain_p.head()"
      ],
      "metadata": {
        "colab": {
          "base_uri": "https://localhost:8080/",
          "height": 292
        },
        "id": "wzeFSARMmpH8",
        "outputId": "4aa96430-6bba-4b01-b82c-0e9720d13a7c"
      },
      "execution_count": null,
      "outputs": [
        {
          "output_type": "execute_result",
          "data": {
            "text/plain": [
              "<Frame#7f11d5666f30 10x3>"
            ],
            "text/html": [
              "<div class='datatable'>\n",
              "  <table class='frame'>\n",
              "  <thead>\n",
              "    <tr class='colnames'><td class='row_index'></td><th>Type</th><th>Alcohol_flag</th><th>Sugar_flag</th></tr>\n",
              "    <tr class='coltypes'><td class='row_index'></td><td class='str' title='str32'>&#x25AA;&#x25AA;&#x25AA;&#x25AA;</td><td class='str' title='str32'>&#x25AA;&#x25AA;&#x25AA;&#x25AA;</td><td class='str' title='str32'>&#x25AA;&#x25AA;&#x25AA;&#x25AA;</td></tr>\n",
              "  </thead>\n",
              "  <tbody>\n",
              "    <tr><td class='row_index'>0</td><td>Red</td><td>High</td><td>High</td></tr>\n",
              "    <tr><td class='row_index'>1</td><td>Red</td><td>High</td><td>Low</td></tr>\n",
              "    <tr><td class='row_index'>2</td><td>Red</td><td>Low</td><td>High</td></tr>\n",
              "    <tr><td class='row_index'>3</td><td>Red</td><td>High</td><td>Low</td></tr>\n",
              "    <tr><td class='row_index'>4</td><td>Red</td><td>Low</td><td>Low</td></tr>\n",
              "    <tr><td class='row_index'>5</td><td>Red</td><td>Low</td><td>Low</td></tr>\n",
              "    <tr><td class='row_index'>6</td><td>Red</td><td>High</td><td>Low</td></tr>\n",
              "    <tr><td class='row_index'>7</td><td>Red</td><td>Low</td><td>Low</td></tr>\n",
              "    <tr><td class='row_index'>8</td><td>Red</td><td>Low</td><td>Low</td></tr>\n",
              "    <tr><td class='row_index'>9</td><td>Red</td><td>Low</td><td>Low</td></tr>\n",
              "  </tbody>\n",
              "  </table>\n",
              "  <div class='footer'>\n",
              "    <div class='frame_dimensions'>10 rows &times; 3 columns</div>\n",
              "  </div>\n",
              "</div>\n"
            ]
          },
          "metadata": {},
          "execution_count": 4
        }
      ]
    },
    {
      "cell_type": "code",
      "source": [
        "winetest_p = dt.fread(\"https://raw.githubusercontent.com/jjghockey/DESC624/main/wine_flag_test.csv\")\n",
        "winetest_p.head()"
      ],
      "metadata": {
        "colab": {
          "base_uri": "https://localhost:8080/",
          "height": 292
        },
        "id": "r8XtlYuvm-2Y",
        "outputId": "f0726586-197f-4816-bd00-f84462cf2a24"
      },
      "execution_count": null,
      "outputs": [
        {
          "output_type": "execute_result",
          "data": {
            "text/plain": [
              "<Frame#7f11ef8278a0 10x3>"
            ],
            "text/html": [
              "<div class='datatable'>\n",
              "  <table class='frame'>\n",
              "  <thead>\n",
              "    <tr class='colnames'><td class='row_index'></td><th>Type</th><th>Alcohol_flag</th><th>Sugar_flag</th></tr>\n",
              "    <tr class='coltypes'><td class='row_index'></td><td class='str' title='str32'>&#x25AA;&#x25AA;&#x25AA;&#x25AA;</td><td class='str' title='str32'>&#x25AA;&#x25AA;&#x25AA;&#x25AA;</td><td class='str' title='str32'>&#x25AA;&#x25AA;&#x25AA;&#x25AA;</td></tr>\n",
              "  </thead>\n",
              "  <tbody>\n",
              "    <tr><td class='row_index'>0</td><td>Red</td><td>Low</td><td>Low</td></tr>\n",
              "    <tr><td class='row_index'>1</td><td>Red</td><td>Low</td><td>Low</td></tr>\n",
              "    <tr><td class='row_index'>2</td><td>Red</td><td>Low</td><td>Low</td></tr>\n",
              "    <tr><td class='row_index'>3</td><td>Red</td><td>Low</td><td>Low</td></tr>\n",
              "    <tr><td class='row_index'>4</td><td>Red</td><td>Low</td><td>Low</td></tr>\n",
              "    <tr><td class='row_index'>5</td><td>Red</td><td>Low</td><td>Low</td></tr>\n",
              "    <tr><td class='row_index'>6</td><td>Red</td><td>Low</td><td>Low</td></tr>\n",
              "    <tr><td class='row_index'>7</td><td>Red</td><td>Low</td><td>Low</td></tr>\n",
              "    <tr><td class='row_index'>8</td><td>Red</td><td>Low</td><td>Low</td></tr>\n",
              "    <tr><td class='row_index'>9</td><td>Red</td><td>Low</td><td>Low</td></tr>\n",
              "  </tbody>\n",
              "  </table>\n",
              "  <div class='footer'>\n",
              "    <div class='frame_dimensions'>10 rows &times; 3 columns</div>\n",
              "  </div>\n",
              "</div>\n"
            ]
          },
          "metadata": {},
          "execution_count": 5
        }
      ]
    },
    {
      "cell_type": "code",
      "source": [
        "winetrain_pd=winetrain_p.to_pandas()"
      ],
      "metadata": {
        "id": "iI-82GIlq7SK"
      },
      "execution_count": null,
      "outputs": []
    },
    {
      "cell_type": "code",
      "source": [
        "winetrain_p=dt.Frame(winetrain_pd)"
      ],
      "metadata": {
        "id": "sVf3iNoErAyx"
      },
      "execution_count": null,
      "outputs": []
    },
    {
      "cell_type": "code",
      "source": [
        "winetrain_pd.head()"
      ],
      "metadata": {
        "colab": {
          "base_uri": "https://localhost:8080/",
          "height": 206
        },
        "id": "EXsGXk_lrQAX",
        "outputId": "eb5df721-dc97-47f7-c454-29ff45205efe"
      },
      "execution_count": null,
      "outputs": [
        {
          "output_type": "execute_result",
          "data": {
            "text/plain": [
              "  Type Alcohol_flag Sugar_flag\n",
              "0  Red         High       High\n",
              "1  Red         High        Low\n",
              "2  Red          Low       High\n",
              "3  Red         High        Low\n",
              "4  Red          Low        Low"
            ],
            "text/html": [
              "\n",
              "  <div id=\"df-9388c5f6-e5c1-4025-8c56-06eb62e475d6\">\n",
              "    <div class=\"colab-df-container\">\n",
              "      <div>\n",
              "<style scoped>\n",
              "    .dataframe tbody tr th:only-of-type {\n",
              "        vertical-align: middle;\n",
              "    }\n",
              "\n",
              "    .dataframe tbody tr th {\n",
              "        vertical-align: top;\n",
              "    }\n",
              "\n",
              "    .dataframe thead th {\n",
              "        text-align: right;\n",
              "    }\n",
              "</style>\n",
              "<table border=\"1\" class=\"dataframe\">\n",
              "  <thead>\n",
              "    <tr style=\"text-align: right;\">\n",
              "      <th></th>\n",
              "      <th>Type</th>\n",
              "      <th>Alcohol_flag</th>\n",
              "      <th>Sugar_flag</th>\n",
              "    </tr>\n",
              "  </thead>\n",
              "  <tbody>\n",
              "    <tr>\n",
              "      <th>0</th>\n",
              "      <td>Red</td>\n",
              "      <td>High</td>\n",
              "      <td>High</td>\n",
              "    </tr>\n",
              "    <tr>\n",
              "      <th>1</th>\n",
              "      <td>Red</td>\n",
              "      <td>High</td>\n",
              "      <td>Low</td>\n",
              "    </tr>\n",
              "    <tr>\n",
              "      <th>2</th>\n",
              "      <td>Red</td>\n",
              "      <td>Low</td>\n",
              "      <td>High</td>\n",
              "    </tr>\n",
              "    <tr>\n",
              "      <th>3</th>\n",
              "      <td>Red</td>\n",
              "      <td>High</td>\n",
              "      <td>Low</td>\n",
              "    </tr>\n",
              "    <tr>\n",
              "      <th>4</th>\n",
              "      <td>Red</td>\n",
              "      <td>Low</td>\n",
              "      <td>Low</td>\n",
              "    </tr>\n",
              "  </tbody>\n",
              "</table>\n",
              "</div>\n",
              "      <button class=\"colab-df-convert\" onclick=\"convertToInteractive('df-9388c5f6-e5c1-4025-8c56-06eb62e475d6')\"\n",
              "              title=\"Convert this dataframe to an interactive table.\"\n",
              "              style=\"display:none;\">\n",
              "        \n",
              "  <svg xmlns=\"http://www.w3.org/2000/svg\" height=\"24px\"viewBox=\"0 0 24 24\"\n",
              "       width=\"24px\">\n",
              "    <path d=\"M0 0h24v24H0V0z\" fill=\"none\"/>\n",
              "    <path d=\"M18.56 5.44l.94 2.06.94-2.06 2.06-.94-2.06-.94-.94-2.06-.94 2.06-2.06.94zm-11 1L8.5 8.5l.94-2.06 2.06-.94-2.06-.94L8.5 2.5l-.94 2.06-2.06.94zm10 10l.94 2.06.94-2.06 2.06-.94-2.06-.94-.94-2.06-.94 2.06-2.06.94z\"/><path d=\"M17.41 7.96l-1.37-1.37c-.4-.4-.92-.59-1.43-.59-.52 0-1.04.2-1.43.59L10.3 9.45l-7.72 7.72c-.78.78-.78 2.05 0 2.83L4 21.41c.39.39.9.59 1.41.59.51 0 1.02-.2 1.41-.59l7.78-7.78 2.81-2.81c.8-.78.8-2.07 0-2.86zM5.41 20L4 18.59l7.72-7.72 1.47 1.35L5.41 20z\"/>\n",
              "  </svg>\n",
              "      </button>\n",
              "      \n",
              "  <style>\n",
              "    .colab-df-container {\n",
              "      display:flex;\n",
              "      flex-wrap:wrap;\n",
              "      gap: 12px;\n",
              "    }\n",
              "\n",
              "    .colab-df-convert {\n",
              "      background-color: #E8F0FE;\n",
              "      border: none;\n",
              "      border-radius: 50%;\n",
              "      cursor: pointer;\n",
              "      display: none;\n",
              "      fill: #1967D2;\n",
              "      height: 32px;\n",
              "      padding: 0 0 0 0;\n",
              "      width: 32px;\n",
              "    }\n",
              "\n",
              "    .colab-df-convert:hover {\n",
              "      background-color: #E2EBFA;\n",
              "      box-shadow: 0px 1px 2px rgba(60, 64, 67, 0.3), 0px 1px 3px 1px rgba(60, 64, 67, 0.15);\n",
              "      fill: #174EA6;\n",
              "    }\n",
              "\n",
              "    [theme=dark] .colab-df-convert {\n",
              "      background-color: #3B4455;\n",
              "      fill: #D2E3FC;\n",
              "    }\n",
              "\n",
              "    [theme=dark] .colab-df-convert:hover {\n",
              "      background-color: #434B5C;\n",
              "      box-shadow: 0px 1px 3px 1px rgba(0, 0, 0, 0.15);\n",
              "      filter: drop-shadow(0px 1px 2px rgba(0, 0, 0, 0.3));\n",
              "      fill: #FFFFFF;\n",
              "    }\n",
              "  </style>\n",
              "\n",
              "      <script>\n",
              "        const buttonEl =\n",
              "          document.querySelector('#df-9388c5f6-e5c1-4025-8c56-06eb62e475d6 button.colab-df-convert');\n",
              "        buttonEl.style.display =\n",
              "          google.colab.kernel.accessAllowed ? 'block' : 'none';\n",
              "\n",
              "        async function convertToInteractive(key) {\n",
              "          const element = document.querySelector('#df-9388c5f6-e5c1-4025-8c56-06eb62e475d6');\n",
              "          const dataTable =\n",
              "            await google.colab.kernel.invokeFunction('convertToInteractive',\n",
              "                                                     [key], {});\n",
              "          if (!dataTable) return;\n",
              "\n",
              "          const docLinkHtml = 'Like what you see? Visit the ' +\n",
              "            '<a target=\"_blank\" href=https://colab.research.google.com/notebooks/data_table.ipynb>data table notebook</a>'\n",
              "            + ' to learn more about interactive tables.';\n",
              "          element.innerHTML = '';\n",
              "          dataTable['output_type'] = 'display_data';\n",
              "          await google.colab.output.renderOutput(dataTable, element);\n",
              "          const docLink = document.createElement('div');\n",
              "          docLink.innerHTML = docLinkHtml;\n",
              "          element.appendChild(docLink);\n",
              "        }\n",
              "      </script>\n",
              "    </div>\n",
              "  </div>\n",
              "  "
            ]
          },
          "metadata": {},
          "execution_count": 8
        }
      ]
    },
    {
      "cell_type": "code",
      "source": [
        "winetest_pd=winetest_p.to_pandas()\n",
        "winetest_p=dt.Frame(winetest_pd)\n",
        "winetest_pd.head()"
      ],
      "metadata": {
        "colab": {
          "base_uri": "https://localhost:8080/",
          "height": 206
        },
        "id": "kjazP78Xqn26",
        "outputId": "cd7a8caf-7c3f-4578-d35e-e05d534dd61b"
      },
      "execution_count": null,
      "outputs": [
        {
          "output_type": "execute_result",
          "data": {
            "text/plain": [
              "  Type Alcohol_flag Sugar_flag\n",
              "0  Red          Low        Low\n",
              "1  Red          Low        Low\n",
              "2  Red          Low        Low\n",
              "3  Red          Low        Low\n",
              "4  Red          Low        Low"
            ],
            "text/html": [
              "\n",
              "  <div id=\"df-8fb1a131-93db-4840-8143-830f7fb37667\">\n",
              "    <div class=\"colab-df-container\">\n",
              "      <div>\n",
              "<style scoped>\n",
              "    .dataframe tbody tr th:only-of-type {\n",
              "        vertical-align: middle;\n",
              "    }\n",
              "\n",
              "    .dataframe tbody tr th {\n",
              "        vertical-align: top;\n",
              "    }\n",
              "\n",
              "    .dataframe thead th {\n",
              "        text-align: right;\n",
              "    }\n",
              "</style>\n",
              "<table border=\"1\" class=\"dataframe\">\n",
              "  <thead>\n",
              "    <tr style=\"text-align: right;\">\n",
              "      <th></th>\n",
              "      <th>Type</th>\n",
              "      <th>Alcohol_flag</th>\n",
              "      <th>Sugar_flag</th>\n",
              "    </tr>\n",
              "  </thead>\n",
              "  <tbody>\n",
              "    <tr>\n",
              "      <th>0</th>\n",
              "      <td>Red</td>\n",
              "      <td>Low</td>\n",
              "      <td>Low</td>\n",
              "    </tr>\n",
              "    <tr>\n",
              "      <th>1</th>\n",
              "      <td>Red</td>\n",
              "      <td>Low</td>\n",
              "      <td>Low</td>\n",
              "    </tr>\n",
              "    <tr>\n",
              "      <th>2</th>\n",
              "      <td>Red</td>\n",
              "      <td>Low</td>\n",
              "      <td>Low</td>\n",
              "    </tr>\n",
              "    <tr>\n",
              "      <th>3</th>\n",
              "      <td>Red</td>\n",
              "      <td>Low</td>\n",
              "      <td>Low</td>\n",
              "    </tr>\n",
              "    <tr>\n",
              "      <th>4</th>\n",
              "      <td>Red</td>\n",
              "      <td>Low</td>\n",
              "      <td>Low</td>\n",
              "    </tr>\n",
              "  </tbody>\n",
              "</table>\n",
              "</div>\n",
              "      <button class=\"colab-df-convert\" onclick=\"convertToInteractive('df-8fb1a131-93db-4840-8143-830f7fb37667')\"\n",
              "              title=\"Convert this dataframe to an interactive table.\"\n",
              "              style=\"display:none;\">\n",
              "        \n",
              "  <svg xmlns=\"http://www.w3.org/2000/svg\" height=\"24px\"viewBox=\"0 0 24 24\"\n",
              "       width=\"24px\">\n",
              "    <path d=\"M0 0h24v24H0V0z\" fill=\"none\"/>\n",
              "    <path d=\"M18.56 5.44l.94 2.06.94-2.06 2.06-.94-2.06-.94-.94-2.06-.94 2.06-2.06.94zm-11 1L8.5 8.5l.94-2.06 2.06-.94-2.06-.94L8.5 2.5l-.94 2.06-2.06.94zm10 10l.94 2.06.94-2.06 2.06-.94-2.06-.94-.94-2.06-.94 2.06-2.06.94z\"/><path d=\"M17.41 7.96l-1.37-1.37c-.4-.4-.92-.59-1.43-.59-.52 0-1.04.2-1.43.59L10.3 9.45l-7.72 7.72c-.78.78-.78 2.05 0 2.83L4 21.41c.39.39.9.59 1.41.59.51 0 1.02-.2 1.41-.59l7.78-7.78 2.81-2.81c.8-.78.8-2.07 0-2.86zM5.41 20L4 18.59l7.72-7.72 1.47 1.35L5.41 20z\"/>\n",
              "  </svg>\n",
              "      </button>\n",
              "      \n",
              "  <style>\n",
              "    .colab-df-container {\n",
              "      display:flex;\n",
              "      flex-wrap:wrap;\n",
              "      gap: 12px;\n",
              "    }\n",
              "\n",
              "    .colab-df-convert {\n",
              "      background-color: #E8F0FE;\n",
              "      border: none;\n",
              "      border-radius: 50%;\n",
              "      cursor: pointer;\n",
              "      display: none;\n",
              "      fill: #1967D2;\n",
              "      height: 32px;\n",
              "      padding: 0 0 0 0;\n",
              "      width: 32px;\n",
              "    }\n",
              "\n",
              "    .colab-df-convert:hover {\n",
              "      background-color: #E2EBFA;\n",
              "      box-shadow: 0px 1px 2px rgba(60, 64, 67, 0.3), 0px 1px 3px 1px rgba(60, 64, 67, 0.15);\n",
              "      fill: #174EA6;\n",
              "    }\n",
              "\n",
              "    [theme=dark] .colab-df-convert {\n",
              "      background-color: #3B4455;\n",
              "      fill: #D2E3FC;\n",
              "    }\n",
              "\n",
              "    [theme=dark] .colab-df-convert:hover {\n",
              "      background-color: #434B5C;\n",
              "      box-shadow: 0px 1px 3px 1px rgba(0, 0, 0, 0.15);\n",
              "      filter: drop-shadow(0px 1px 2px rgba(0, 0, 0, 0.3));\n",
              "      fill: #FFFFFF;\n",
              "    }\n",
              "  </style>\n",
              "\n",
              "      <script>\n",
              "        const buttonEl =\n",
              "          document.querySelector('#df-8fb1a131-93db-4840-8143-830f7fb37667 button.colab-df-convert');\n",
              "        buttonEl.style.display =\n",
              "          google.colab.kernel.accessAllowed ? 'block' : 'none';\n",
              "\n",
              "        async function convertToInteractive(key) {\n",
              "          const element = document.querySelector('#df-8fb1a131-93db-4840-8143-830f7fb37667');\n",
              "          const dataTable =\n",
              "            await google.colab.kernel.invokeFunction('convertToInteractive',\n",
              "                                                     [key], {});\n",
              "          if (!dataTable) return;\n",
              "\n",
              "          const docLinkHtml = 'Like what you see? Visit the ' +\n",
              "            '<a target=\"_blank\" href=https://colab.research.google.com/notebooks/data_table.ipynb>data table notebook</a>'\n",
              "            + ' to learn more about interactive tables.';\n",
              "          element.innerHTML = '';\n",
              "          dataTable['output_type'] = 'display_data';\n",
              "          await google.colab.output.renderOutput(dataTable, element);\n",
              "          const docLink = document.createElement('div');\n",
              "          docLink.innerHTML = docLinkHtml;\n",
              "          element.appendChild(docLink);\n",
              "        }\n",
              "      </script>\n",
              "    </div>\n",
              "  </div>\n",
              "  "
            ]
          },
          "metadata": {},
          "execution_count": 9
        }
      ]
    },
    {
      "cell_type": "code",
      "source": [
        "winetrain_p[:,'count']=1\n",
        "winetrain_p[:, sum(f.count), by('Type')]"
      ],
      "metadata": {
        "colab": {
          "base_uri": "https://localhost:8080/",
          "height": 122
        },
        "id": "zGgLOstJu5aF",
        "outputId": "6c937c6e-ac0e-458b-b8ff-675b93f29e82"
      },
      "execution_count": null,
      "outputs": [
        {
          "output_type": "execute_result",
          "data": {
            "text/plain": [
              "<Frame#7f11d51ef6c0 2x2>"
            ],
            "text/html": [
              "<div class='datatable'>\n",
              "  <table class='frame'>\n",
              "  <thead>\n",
              "    <tr class='colnames'><td class='row_index'></td><th>Type</th><th>count</th></tr>\n",
              "    <tr class='coltypes'><td class='row_index'></td><td class='str' title='str32'>&#x25AA;&#x25AA;&#x25AA;&#x25AA;</td><td class='int' title='int64'>&#x25AA;&#x25AA;&#x25AA;&#x25AA;&#x25AA;&#x25AA;&#x25AA;&#x25AA;</td></tr>\n",
              "  </thead>\n",
              "  <tbody>\n",
              "    <tr><td class='row_index'>0</td><td>Red</td><td>500</td></tr>\n",
              "    <tr><td class='row_index'>1</td><td>White</td><td>500</td></tr>\n",
              "  </tbody>\n",
              "  </table>\n",
              "  <div class='footer'>\n",
              "    <div class='frame_dimensions'>2 rows &times; 2 columns</div>\n",
              "  </div>\n",
              "</div>\n"
            ]
          },
          "metadata": {},
          "execution_count": 10
        }
      ]
    },
    {
      "cell_type": "code",
      "source": [
        "winetest_p[:,'count']=1\n",
        "winetest_p[:, sum(f.count), by('Type')]"
      ],
      "metadata": {
        "colab": {
          "base_uri": "https://localhost:8080/",
          "height": 122
        },
        "id": "CW4URTFQu7rt",
        "outputId": "73d6f2d0-10b1-43f5-fd46-776e49e30801"
      },
      "execution_count": null,
      "outputs": [
        {
          "output_type": "execute_result",
          "data": {
            "text/plain": [
              "<Frame#7f11d51efae0 2x2>"
            ],
            "text/html": [
              "<div class='datatable'>\n",
              "  <table class='frame'>\n",
              "  <thead>\n",
              "    <tr class='colnames'><td class='row_index'></td><th>Type</th><th>count</th></tr>\n",
              "    <tr class='coltypes'><td class='row_index'></td><td class='str' title='str32'>&#x25AA;&#x25AA;&#x25AA;&#x25AA;</td><td class='int' title='int64'>&#x25AA;&#x25AA;&#x25AA;&#x25AA;&#x25AA;&#x25AA;&#x25AA;&#x25AA;</td></tr>\n",
              "  </thead>\n",
              "  <tbody>\n",
              "    <tr><td class='row_index'>0</td><td>Red</td><td>585</td></tr>\n",
              "    <tr><td class='row_index'>1</td><td>White</td><td>1760</td></tr>\n",
              "  </tbody>\n",
              "  </table>\n",
              "  <div class='footer'>\n",
              "    <div class='frame_dimensions'>2 rows &times; 2 columns</div>\n",
              "  </div>\n",
              "</div>\n"
            ]
          },
          "metadata": {},
          "execution_count": 11
        }
      ]
    },
    {
      "cell_type": "markdown",
      "source": [
        "Create two contingency tables, one with Type and Alcohol_flag and another with Type and Sugar_flag. Use the tables in the previous exercise to calculate:"
      ],
      "metadata": {
        "id": "VbPc1vJR0smz"
      }
    },
    {
      "cell_type": "markdown",
      "source": [
        "The prior probability of Type = Red and Type = White. The probability of high and low alcohol content. The probability of high and low sugar content. \n",
        "\n",
        "**Answer:** The prior probability of Type = Red is 50% and the prior probability of Type = White is 50% as shown by the contigency table below. The probability of high alcohol content is 48.6% and the probability of low alcohol content is 51.4%. The probability of high sugar content is 41.6% and the probability of low sugar content is 58.4%. All of my code is shown below. "
      ],
      "metadata": {
        "id": "ni41z61onuib"
      }
    },
    {
      "cell_type": "code",
      "source": [
        "# Contigency Table (Type and Alcohol_flag) \n",
        "alch = pd.crosstab(index=winetrain_pd[\"Alcohol_flag\"],columns=\"Count\", normalize='columns')\n",
        "Type = pd.crosstab(index=winetrain_pd[\"Type\"],columns=\"Count\", normalize='columns')\n",
        "\n",
        "print(alch)\n",
        "print(Type)"
      ],
      "metadata": {
        "colab": {
          "base_uri": "https://localhost:8080/"
        },
        "id": "ANdk6kuLvADE",
        "outputId": "db644bbc-ff1c-48b7-e71e-8697ba93d991"
      },
      "execution_count": null,
      "outputs": [
        {
          "output_type": "stream",
          "name": "stdout",
          "text": [
            "col_0         Count\n",
            "Alcohol_flag       \n",
            "High          0.486\n",
            "Low           0.514\n",
            "col_0  Count\n",
            "Type        \n",
            "Red      0.5\n",
            "White    0.5\n"
          ]
        }
      ]
    },
    {
      "cell_type": "code",
      "source": [
        "# Contigency Table (Type and Alcohol_flag)\n",
        "ct_n = pd.crosstab(index=winetrain_pd[\"Alcohol_flag\"],columns=winetrain_pd[\"Type\"], normalize='columns')\n",
        "out_wcc = pd.crosstab(index=winetrain_pd[\"Type\"],columns=winetrain_pd[\"Alcohol_flag\"], normalize='columns')\n",
        "print(ct_n)\n",
        "print(out_wcc)"
      ],
      "metadata": {
        "colab": {
          "base_uri": "https://localhost:8080/"
        },
        "id": "qTntDuPXhuCl",
        "outputId": "61a63162-147f-4562-bdd6-d81d2d4064ec"
      },
      "execution_count": null,
      "outputs": [
        {
          "output_type": "stream",
          "name": "stdout",
          "text": [
            "Type            Red  White\n",
            "Alcohol_flag              \n",
            "High          0.436  0.536\n",
            "Low           0.564  0.464\n",
            "Alcohol_flag     High       Low\n",
            "Type                           \n",
            "Red           0.44856  0.548638\n",
            "White         0.55144  0.451362\n"
          ]
        }
      ]
    },
    {
      "cell_type": "code",
      "source": [
        "# Contigency Table (Type and Sugar_flag)\n",
        "sugar = pd.crosstab(index=winetrain_pd[\"Sugar_flag\"],columns=\"Count\", normalize='columns')\n",
        "Type = pd.crosstab(index=winetrain_pd[\"Type\"],columns=\"Count\", normalize='columns')\n",
        "\n",
        "print(sugar)\n",
        "print(Type)\n"
      ],
      "metadata": {
        "colab": {
          "base_uri": "https://localhost:8080/"
        },
        "id": "n6bV7BjGvCOt",
        "outputId": "685a457a-e820-4b86-8e4b-71e54cbd1504"
      },
      "execution_count": null,
      "outputs": [
        {
          "output_type": "stream",
          "name": "stdout",
          "text": [
            "col_0       Count\n",
            "Sugar_flag       \n",
            "High        0.416\n",
            "Low         0.584\n",
            "col_0  Count\n",
            "Type        \n",
            "Red      0.5\n",
            "White    0.5\n"
          ]
        }
      ]
    },
    {
      "cell_type": "code",
      "source": [
        "# Contigency Table (Type and Sugar_flag)\n",
        "sugar_type = pd.crosstab(index=winetrain_pd[\"Sugar_flag\"],columns=winetrain_pd[\"Type\"], normalize='columns')\n",
        "type_sugar = pd.crosstab(index=winetrain_pd[\"Type\"],columns=winetrain_pd[\"Sugar_flag\"], normalize='columns')\n",
        "\n",
        "print(sugar_type)\n",
        "print(type_sugar)"
      ],
      "metadata": {
        "colab": {
          "base_uri": "https://localhost:8080/"
        },
        "id": "rUfUnCkIJwhp",
        "outputId": "6643e85d-65c5-4d59-9fdb-5e418cfba4ed"
      },
      "execution_count": null,
      "outputs": [
        {
          "output_type": "stream",
          "name": "stdout",
          "text": [
            "Type          Red  White\n",
            "Sugar_flag              \n",
            "High        0.232    0.6\n",
            "Low         0.768    0.4\n",
            "Sugar_flag      High       Low\n",
            "Type                          \n",
            "Red         0.278846  0.657534\n",
            "White       0.721154  0.342466\n"
          ]
        }
      ]
    },
    {
      "cell_type": "markdown",
      "source": [
        "The conditional probabilities p(Alcohol_flag = High ∣ Type = Red) and p(Alcohol_flag = Low ∣ Type = Red).\n",
        "The conditional probabilities p(Alcohol_flag = High ∣ Type = White) and p(Alcohol_flag = Low ∣ Type = White). \n",
        "\n",
        "(Probability of low alcohol content give wine type is white). \n",
        "\n",
        "**Answer:** The conditional probability of alcohol content being high given that the type of wine is red is 43.6% and the conditional probability of alcohol content being low given that the type of wines is red is 56.4%. The conditional probability of alcohol content being high given that the type of wine is white is 53.6% and the conditional probability of alcohol content being low given that the type of wine is white is 46.6%. All code used to answer this question is provided above. \n",
        "\n",
        "The conditional probabilities p(Sugar_flag = High ∣ Type = Red) and p(Sugar_flag = Low ∣ Type = Red). The conditional probabilities p(Sugar_flag = High ∣ Type = White) and p(Sugar_flag = Low ∣ Type = White).\n",
        "\n",
        "**Answer:** The conditional probability of sugar content being high given that the type of wine is red is 23.2% as shown by the code above. The conditional probability of sugar content being low given that the type of wine is red is 76.8%. The conditional probability of sugar content being high given that the type of wine is white is 60% and the conditional probability of sugar content being low given that the type of wine is white is 40%. All code is shown above. "
      ],
      "metadata": {
        "id": "MS5D9_EL8ksT"
      }
    },
    {
      "cell_type": "markdown",
      "source": [
        "Use the probabilities in the previous exercise to discuss\n",
        "* How likely it is that a randomly selected wine is red.\n",
        "* How likely it is that a randomly selected wine has a high alcohol content.\n",
        "* How likely it is that a randomly selected wine has a low sugar content.\n",
        "\n",
        "**Answer:** There is a 50% chance that a randomly selected wine is red which means that it is somewhat likely. Since there is a 48.6% probability that a randomly selected wine has a high alcohol content it is more likely that a randomly selected wine have a low alcohol content, but only by a small margin. Additionally, it is likely that a randomly selected wine has a low sugar content as the prior probability for a wine having a low sugar content it 58.4%. \n",
        "\n",
        "Use the conditional probabilities found earlier to discuss\n",
        "* What a typical white wine might have as its alcohol and sugar content.\n",
        "* What a typical red wine might have as its alcohol and sugar content.\n",
        "\n",
        "**Answer:** A typical white wine based on the conditional probabilities calculated previously will have a high alcohol content and a high sugar content. A typical red white might have a low alcohol content and low sugar content based on the previously calculated conditional probabilties shown above."
      ],
      "metadata": {
        "id": "qVBi8P-sT4Jw"
      }
    },
    {
      "cell_type": "markdown",
      "source": [
        "Create side‐by‐side bar graphs for Type, one with an overlay of Alcohol_flag and the other with an overlay of Sugar_flag. Compare the graphs to the conditional probabilities you calculated."
      ],
      "metadata": {
        "id": "83VuJqtLdOnn"
      }
    },
    {
      "cell_type": "code",
      "source": [
        "#Plot 1\n",
        "winetrain_pd=winetrain_p.to_pandas()\n",
        "crosstab_01 = pd.crosstab(winetrain_pd['Type'], winetrain_pd['Alcohol_flag'])\n",
        "crosstab_norm = crosstab_01.div(crosstab_01.sum(1), axis = 0)\n",
        "print(crosstab_norm)\n",
        "crosstab_norm.plot(kind='bar', stacked = True)\n",
        "\n",
        "plt.legend(['Alcohol_flag = High', 'Alcohol_flag = Low'])\n",
        "plt.title('Type with Alcohol_flag Overlay')\n",
        "plt.xlabel('Type'); plt.ylabel('Proportion'); plt.show()"
      ],
      "metadata": {
        "colab": {
          "base_uri": "https://localhost:8080/",
          "height": 385
        },
        "id": "SzbbDsTWdQcA",
        "outputId": "9b35c5f2-776d-4e8e-fb38-024f6fba5812"
      },
      "execution_count": null,
      "outputs": [
        {
          "output_type": "stream",
          "name": "stdout",
          "text": [
            "Alcohol_flag   High    Low\n",
            "Type                      \n",
            "Red           0.436  0.564\n",
            "White         0.536  0.464\n"
          ]
        },
        {
          "output_type": "display_data",
          "data": {
            "text/plain": [
              "<Figure size 432x288 with 1 Axes>"
            ],
            "image/png": "[encoded data removed]"
          },
          "metadata": {
            "needs_background": "light"
          }
        }
      ]
    },
    {
      "cell_type": "code",
      "source": [
        "#Plot 2\n",
        "winetrain_pd=winetrain_p.to_pandas()\n",
        "crosstab_01 = pd.crosstab(winetrain_pd['Type'], winetrain_pd['Sugar_flag'])\n",
        "crosstab_norm = crosstab_01.div(crosstab_01.sum(1), axis = 0)\n",
        "print(crosstab_norm)\n",
        "crosstab_norm.plot(kind='bar', stacked = True)\n",
        "\n",
        "plt.legend(['Sugar_flag = High', 'Sugar_flag = Low'])\n",
        "plt.title('Type with Sugar_flag Overlay')\n",
        "plt.xlabel('Type'); plt.ylabel('Proportion'); plt.show()"
      ],
      "metadata": {
        "colab": {
          "base_uri": "https://localhost:8080/",
          "height": 385
        },
        "id": "TEpF6afvepLm",
        "outputId": "83d59903-6ab2-43b2-b2f1-e52563a45723"
      },
      "execution_count": null,
      "outputs": [
        {
          "output_type": "stream",
          "name": "stdout",
          "text": [
            "Sugar_flag   High    Low\n",
            "Type                    \n",
            "Red         0.232  0.768\n",
            "White       0.600  0.400\n"
          ]
        },
        {
          "output_type": "display_data",
          "data": {
            "text/plain": [
              "<Figure size 432x288 with 1 Axes>"
            ],
            "image/png": "[encoded data removed]"
          },
          "metadata": {
            "needs_background": "light"
          }
        }
      ]
    },
    {
      "cell_type": "markdown",
      "source": [
        "Compute the posterior probability of Type = Red for a wine that is low in alcohol content and high in sugar content. Compute the posterior probability of Type = White for the same wine.\n",
        "\n",
        "Use your answers to the previous exercise to determine which type, red or white, is more probable for a wine with low alcohol and high sugar content. What would the Naïve Bayes classifier classify this wine as?\n",
        "\n",
        "**Answer:** The code that I used to compute the posterior probabilities is shown below. A wine with a low alcohol and high sugar content would most likely be a white wine as the posterior probability of a wine being a white wine given that it has a low alcohol content and high sugar content is 71.86% and the posterior probability of a wine being a red wine given that it has a low alcohol content and high sugar content is 28.14%. Thus, the Naïve Bayes classifier would classify a wine with low alcohol and high sugar content as a white wine."
      ],
      "metadata": {
        "id": "7JFtSCPKVdHA"
      }
    },
    {
      "cell_type": "code",
      "source": [
        "# Posterior probability of Type = Red for a wine with low alcohol content and high sugar content \n",
        "winetrain_pd['val']=1\n",
        "alch_sugar_type=winetrain_pd[ (winetrain_pd['Alcohol_flag']=='Low') & (winetrain_pd['Sugar_flag']=='High') & (winetrain_pd['Type']==\"Red\")]\n",
        "alch_sugar=winetrain_pd[ (winetrain_pd['Alcohol_flag']=='Low') & (winetrain_pd['Sugar_flag']=='High')]\n",
        "winetype=winetrain_pd[ (winetrain_pd['Type']==\"Red\")]\n",
        "\n",
        "pBA=alch_sugar_type['val'].sum()/winetype['val'].sum()\n",
        "pA=winetype['val'].sum()/winetrain_pd['val'].sum()\n",
        "pB=alch_sugar['val'].sum()/winetrain_pd['val'].sum()\n",
        "\n",
        "print(pBA)\n",
        "print(pA)\n",
        "print(pB)\n",
        "\n",
        "pAB=(pBA*pA)/pB\n",
        "print(pAB)"
      ],
      "metadata": {
        "colab": {
          "base_uri": "https://localhost:8080/"
        },
        "id": "YuYCC1P7vHax",
        "outputId": "0dab18c2-28b2-43fd-f328-bf1cb0232c4b"
      },
      "execution_count": null,
      "outputs": [
        {
          "output_type": "stream",
          "name": "stdout",
          "text": [
            "0.13\n",
            "0.5\n",
            "0.231\n",
            "0.2813852813852814\n"
          ]
        }
      ]
    },
    {
      "cell_type": "code",
      "source": [
        "# Posterior probability of Type = White for a wine with low alcohol content and high sugar content \n",
        "winetrain_pd['val']=1\n",
        "alch_sugar_type=winetrain_pd[ (winetrain_pd['Alcohol_flag']=='Low') & (winetrain_pd['Sugar_flag']=='High') & (winetrain_pd['Type']==\"White\")]\n",
        "alch_sugar=winetrain_pd[ (winetrain_pd['Alcohol_flag']=='Low') & (winetrain_pd['Sugar_flag']=='High')]\n",
        "winetype=winetrain_pd[ (winetrain_pd['Type']==\"Red\")]\n",
        "\n",
        "pBA=alch_sugar_type['val'].sum()/winetype['val'].sum()\n",
        "pA=winetype['val'].sum()/winetrain_pd['val'].sum()\n",
        "pB=alch_sugar['val'].sum()/winetrain_pd['val'].sum()\n",
        "\n",
        "print(pBA)\n",
        "print(pA)\n",
        "print(pB)\n",
        "\n",
        "pAB=(pBA*pA)/pB\n",
        "print(pAB)"
      ],
      "metadata": {
        "colab": {
          "base_uri": "https://localhost:8080/"
        },
        "id": "n4LKShZlXFCi",
        "outputId": "56eb27e5-e877-4378-8647-abc115d78463"
      },
      "execution_count": null,
      "outputs": [
        {
          "output_type": "stream",
          "name": "stdout",
          "text": [
            "0.332\n",
            "0.5\n",
            "0.231\n",
            "0.7186147186147186\n"
          ]
        }
      ]
    },
    {
      "cell_type": "markdown",
      "source": [
        "Compute the posterior probability of Type = Red for a wine that is high in alcohol content and low in sugar content. Compute the posterior probability of Type = White for the same wine.\n",
        "\n",
        "Use your answers to the previous exercise to determine which type, red or white, is more probable for a wine with high alcohol and low sugar content. What would the Naïve Bayes classifier classify this wine as?\n",
        "\n",
        "**Answer:** The code that I used to calculate the posterior probabilities is shown below. A red wine is more probable for a wine with a high alcohol and low sugar content. This is because the posterior probability for wine being a red wine given that it has high alcohol and low sugar content is 55.48% whereas the posterior probability of a wine being a white wine given that it has a high alcohol content and low sugar is 44.52%. Thus, the Naïve Bayes classifier would classify a wine with a high alcohol and low sugar content as a red wine."
      ],
      "metadata": {
        "id": "1Ci__KZRb9a9"
      }
    },
    {
      "cell_type": "code",
      "source": [
        "# Posterior probability of Type = Red for a wine with high alcohol content and low sugar content \n",
        "winetrain_pd['val']=1\n",
        "alch_sugar_type=winetrain_pd[ (winetrain_pd['Alcohol_flag']=='High') & (winetrain_pd['Sugar_flag']=='Low') & (winetrain_pd['Type']==\"Red\")]\n",
        "alch_sugar=winetrain_pd[ (winetrain_pd['Alcohol_flag']=='High') & (winetrain_pd['Sugar_flag']=='Low')]\n",
        "winetype=winetrain_pd[ (winetrain_pd['Type']==\"Red\")]\n",
        "\n",
        "pBA=alch_sugar_type['val'].sum()/winetype['val'].sum()\n",
        "pA=winetype['val'].sum()/winetrain_pd['val'].sum()\n",
        "pB=alch_sugar['val'].sum()/winetrain_pd['val'].sum()\n",
        "\n",
        "print(pBA)\n",
        "print(pA)\n",
        "print(pB)\n",
        "\n",
        "pAB=(pBA*pA)/pB\n",
        "print(pAB)"
      ],
      "metadata": {
        "colab": {
          "base_uri": "https://localhost:8080/"
        },
        "id": "8DxXw3yYb36x",
        "outputId": "7ac4694d-40a5-44ed-926f-4b2469fe9918"
      },
      "execution_count": null,
      "outputs": [
        {
          "output_type": "stream",
          "name": "stdout",
          "text": [
            "0.334\n",
            "0.5\n",
            "0.301\n",
            "0.5548172757475084\n"
          ]
        }
      ]
    },
    {
      "cell_type": "code",
      "source": [
        "# Posterior probability of Type = White for a wine with high alcohol content and low sugar content \n",
        "winetrain_pd['val']=1\n",
        "alch_sugar_type=winetrain_pd[ (winetrain_pd['Alcohol_flag']=='High') & (winetrain_pd['Sugar_flag']=='Low') & (winetrain_pd['Type']==\"White\")]\n",
        "alch_sugar=winetrain_pd[ (winetrain_pd['Alcohol_flag']=='High') & (winetrain_pd['Sugar_flag']=='Low')]\n",
        "winetype=winetrain_pd[ (winetrain_pd['Type']==\"White\")]\n",
        "\n",
        "pBA=alch_sugar_type['val'].sum()/winetype['val'].sum()\n",
        "pA=winetype['val'].sum()/winetrain_pd['val'].sum()\n",
        "pB=alch_sugar['val'].sum()/winetrain_pd['val'].sum()\n",
        "\n",
        "print(pBA)\n",
        "print(pA)\n",
        "print(pB)\n",
        "\n",
        "pAB=(pBA*pA)/pB\n",
        "print(pAB)"
      ],
      "metadata": {
        "colab": {
          "base_uri": "https://localhost:8080/"
        },
        "id": "p-I3yPLhcuZl",
        "outputId": "43f66bc2-69c8-452a-e7cc-f0896c59f68d"
      },
      "execution_count": null,
      "outputs": [
        {
          "output_type": "stream",
          "name": "stdout",
          "text": [
            "0.268\n",
            "0.5\n",
            "0.301\n",
            "0.4451827242524917\n"
          ]
        }
      ]
    },
    {
      "cell_type": "markdown",
      "source": [
        "Run the Naïve Bayes classifier to classify wines as white or red based on alcohol and sugar content."
      ],
      "metadata": {
        "id": "2zhxHIFY0A_8"
      }
    },
    {
      "cell_type": "code",
      "source": [
        "# Creating a dataframe\n",
        "winetrain_pd = winetrain_p.to_pandas()\n",
        "winetest_pd = winetest_p.to_pandas()\n",
        "  \n",
        "# Converting variables to factor variables for modeling\n",
        "winetrain_pd['Type'],_=pd.factorize(winetrain_pd['Type'], sort=True)\n",
        "winetrain_pd['Alcohol_flag'],_=pd.factorize(winetrain_pd['Alcohol_flag'], sort=True)\n",
        "winetrain_pd['Sugar_flag'],_=pd.factorize(winetrain_pd['Sugar_flag'], sort=True)\n",
        "winetest_pd['Type'],_=pd.factorize(winetest_pd['Type'], sort=True)\n",
        "winetest_pd['Alcohol_flag'],_=pd.factorize(winetest_pd['Alcohol_flag'], sort=True)\n",
        "winetest_pd['Sugar_flag'],_=pd.factorize(winetest_pd['Sugar_flag'], sort=True)\n",
        "\n",
        "# Training and Test Split\n",
        "\n",
        "winetrain_pd_trn = winetrain_pd \n",
        "\n",
        "winetest_pd_tst = winetest_pd\n",
        "\n",
        "winetest_pd_tst.describe()"
      ],
      "metadata": {
        "colab": {
          "base_uri": "https://localhost:8080/",
          "height": 300
        },
        "id": "-v_96tHgqHjy",
        "outputId": "38295536-5bde-4769-fe48-d4f365f42660"
      },
      "execution_count": null,
      "outputs": [
        {
          "output_type": "execute_result",
          "data": {
            "text/plain": [
              "              Type  Alcohol_flag   Sugar_flag   count\n",
              "count  2345.000000   2345.000000  2345.000000  2345.0\n",
              "mean      0.750533      0.498934     0.486994     1.0\n",
              "std       0.432797      0.500106     0.499937     0.0\n",
              "min       0.000000      0.000000     0.000000     1.0\n",
              "25%       1.000000      0.000000     0.000000     1.0\n",
              "50%       1.000000      0.000000     0.000000     1.0\n",
              "75%       1.000000      1.000000     1.000000     1.0\n",
              "max       1.000000      1.000000     1.000000     1.0"
            ],
            "text/html": [
              "\n",
              "  <div id=\"df-b429c3db-ea52-467f-9371-4fa9f592f6fb\">\n",
              "    <div class=\"colab-df-container\">\n",
              "      <div>\n",
              "<style scoped>\n",
              "    .dataframe tbody tr th:only-of-type {\n",
              "        vertical-align: middle;\n",
              "    }\n",
              "\n",
              "    .dataframe tbody tr th {\n",
              "        vertical-align: top;\n",
              "    }\n",
              "\n",
              "    .dataframe thead th {\n",
              "        text-align: right;\n",
              "    }\n",
              "</style>\n",
              "<table border=\"1\" class=\"dataframe\">\n",
              "  <thead>\n",
              "    <tr style=\"text-align: right;\">\n",
              "      <th></th>\n",
              "      <th>Type</th>\n",
              "      <th>Alcohol_flag</th>\n",
              "      <th>Sugar_flag</th>\n",
              "      <th>count</th>\n",
              "    </tr>\n",
              "  </thead>\n",
              "  <tbody>\n",
              "    <tr>\n",
              "      <th>count</th>\n",
              "      <td>2345.000000</td>\n",
              "      <td>2345.000000</td>\n",
              "      <td>2345.000000</td>\n",
              "      <td>2345.0</td>\n",
              "    </tr>\n",
              "    <tr>\n",
              "      <th>mean</th>\n",
              "      <td>0.750533</td>\n",
              "      <td>0.498934</td>\n",
              "      <td>0.486994</td>\n",
              "      <td>1.0</td>\n",
              "    </tr>\n",
              "    <tr>\n",
              "      <th>std</th>\n",
              "      <td>0.432797</td>\n",
              "      <td>0.500106</td>\n",
              "      <td>0.499937</td>\n",
              "      <td>0.0</td>\n",
              "    </tr>\n",
              "    <tr>\n",
              "      <th>min</th>\n",
              "      <td>0.000000</td>\n",
              "      <td>0.000000</td>\n",
              "      <td>0.000000</td>\n",
              "      <td>1.0</td>\n",
              "    </tr>\n",
              "    <tr>\n",
              "      <th>25%</th>\n",
              "      <td>1.000000</td>\n",
              "      <td>0.000000</td>\n",
              "      <td>0.000000</td>\n",
              "      <td>1.0</td>\n",
              "    </tr>\n",
              "    <tr>\n",
              "      <th>50%</th>\n",
              "      <td>1.000000</td>\n",
              "      <td>0.000000</td>\n",
              "      <td>0.000000</td>\n",
              "      <td>1.0</td>\n",
              "    </tr>\n",
              "    <tr>\n",
              "      <th>75%</th>\n",
              "      <td>1.000000</td>\n",
              "      <td>1.000000</td>\n",
              "      <td>1.000000</td>\n",
              "      <td>1.0</td>\n",
              "    </tr>\n",
              "    <tr>\n",
              "      <th>max</th>\n",
              "      <td>1.000000</td>\n",
              "      <td>1.000000</td>\n",
              "      <td>1.000000</td>\n",
              "      <td>1.0</td>\n",
              "    </tr>\n",
              "  </tbody>\n",
              "</table>\n",
              "</div>\n",
              "      <button class=\"colab-df-convert\" onclick=\"convertToInteractive('df-b429c3db-ea52-467f-9371-4fa9f592f6fb')\"\n",
              "              title=\"Convert this dataframe to an interactive table.\"\n",
              "              style=\"display:none;\">\n",
              "        \n",
              "  <svg xmlns=\"http://www.w3.org/2000/svg\" height=\"24px\"viewBox=\"0 0 24 24\"\n",
              "       width=\"24px\">\n",
              "    <path d=\"M0 0h24v24H0V0z\" fill=\"none\"/>\n",
              "    <path d=\"M18.56 5.44l.94 2.06.94-2.06 2.06-.94-2.06-.94-.94-2.06-.94 2.06-2.06.94zm-11 1L8.5 8.5l.94-2.06 2.06-.94-2.06-.94L8.5 2.5l-.94 2.06-2.06.94zm10 10l.94 2.06.94-2.06 2.06-.94-2.06-.94-.94-2.06-.94 2.06-2.06.94z\"/><path d=\"M17.41 7.96l-1.37-1.37c-.4-.4-.92-.59-1.43-.59-.52 0-1.04.2-1.43.59L10.3 9.45l-7.72 7.72c-.78.78-.78 2.05 0 2.83L4 21.41c.39.39.9.59 1.41.59.51 0 1.02-.2 1.41-.59l7.78-7.78 2.81-2.81c.8-.78.8-2.07 0-2.86zM5.41 20L4 18.59l7.72-7.72 1.47 1.35L5.41 20z\"/>\n",
              "  </svg>\n",
              "      </button>\n",
              "      \n",
              "  <style>\n",
              "    .colab-df-container {\n",
              "      display:flex;\n",
              "      flex-wrap:wrap;\n",
              "      gap: 12px;\n",
              "    }\n",
              "\n",
              "    .colab-df-convert {\n",
              "      background-color: #E8F0FE;\n",
              "      border: none;\n",
              "      border-radius: 50%;\n",
              "      cursor: pointer;\n",
              "      display: none;\n",
              "      fill: #1967D2;\n",
              "      height: 32px;\n",
              "      padding: 0 0 0 0;\n",
              "      width: 32px;\n",
              "    }\n",
              "\n",
              "    .colab-df-convert:hover {\n",
              "      background-color: #E2EBFA;\n",
              "      box-shadow: 0px 1px 2px rgba(60, 64, 67, 0.3), 0px 1px 3px 1px rgba(60, 64, 67, 0.15);\n",
              "      fill: #174EA6;\n",
              "    }\n",
              "\n",
              "    [theme=dark] .colab-df-convert {\n",
              "      background-color: #3B4455;\n",
              "      fill: #D2E3FC;\n",
              "    }\n",
              "\n",
              "    [theme=dark] .colab-df-convert:hover {\n",
              "      background-color: #434B5C;\n",
              "      box-shadow: 0px 1px 3px 1px rgba(0, 0, 0, 0.15);\n",
              "      filter: drop-shadow(0px 1px 2px rgba(0, 0, 0, 0.3));\n",
              "      fill: #FFFFFF;\n",
              "    }\n",
              "  </style>\n",
              "\n",
              "      <script>\n",
              "        const buttonEl =\n",
              "          document.querySelector('#df-b429c3db-ea52-467f-9371-4fa9f592f6fb button.colab-df-convert');\n",
              "        buttonEl.style.display =\n",
              "          google.colab.kernel.accessAllowed ? 'block' : 'none';\n",
              "\n",
              "        async function convertToInteractive(key) {\n",
              "          const element = document.querySelector('#df-b429c3db-ea52-467f-9371-4fa9f592f6fb');\n",
              "          const dataTable =\n",
              "            await google.colab.kernel.invokeFunction('convertToInteractive',\n",
              "                                                     [key], {});\n",
              "          if (!dataTable) return;\n",
              "\n",
              "          const docLinkHtml = 'Like what you see? Visit the ' +\n",
              "            '<a target=\"_blank\" href=https://colab.research.google.com/notebooks/data_table.ipynb>data table notebook</a>'\n",
              "            + ' to learn more about interactive tables.';\n",
              "          element.innerHTML = '';\n",
              "          dataTable['output_type'] = 'display_data';\n",
              "          await google.colab.output.renderOutput(dataTable, element);\n",
              "          const docLink = document.createElement('div');\n",
              "          docLink.innerHTML = docLinkHtml;\n",
              "          element.appendChild(docLink);\n",
              "        }\n",
              "      </script>\n",
              "    </div>\n",
              "  </div>\n",
              "  "
            ]
          },
          "metadata": {},
          "execution_count": 22
        }
      ]
    },
    {
      "cell_type": "code",
      "source": [
        "trn=winetrain_pd_trn.loc[:,['Type','Alcohol_flag','Sugar_flag']]\n",
        "tst=winetest_pd_tst.loc[:,['Type','Alcohol_flag','Sugar_flag']]"
      ],
      "metadata": {
        "id": "Ev56yYtusqvG"
      },
      "execution_count": null,
      "outputs": []
    },
    {
      "cell_type": "code",
      "source": [
        "X_train = trn[['Alcohol_flag','Sugar_flag']] #predictors\n",
        "\n",
        "y_train = trn[['Type']] #target\n",
        "\n",
        "\n",
        "X_test = tst[['Alcohol_flag','Sugar_flag']] #predictors\n",
        "\n",
        "y_test= tst[['Type']] #target"
      ],
      "metadata": {
        "id": "ZFQ2AVxlpAgX"
      },
      "execution_count": null,
      "outputs": []
    },
    {
      "cell_type": "code",
      "source": [
        "# Running the Model\n",
        "NB = GaussianNB()\n",
        "nb_01 = NB.fit(X_train, y_train) "
      ],
      "metadata": {
        "colab": {
          "base_uri": "https://localhost:8080/"
        },
        "id": "KGah66WjtrDR",
        "outputId": "7fa81eca-ce5e-47e2-add7-de28181801e0"
      },
      "execution_count": null,
      "outputs": [
        {
          "output_type": "stream",
          "name": "stderr",
          "text": [
            "/usr/local/lib/python3.7/dist-packages/sklearn/utils/validation.py:993: DataConversionWarning: A column-vector y was passed when a 1d array was expected. Please change the shape of y to (n_samples, ), for example using ravel().\n",
            "  y = column_or_1d(y, warn=True)\n"
          ]
        }
      ]
    },
    {
      "cell_type": "code",
      "source": [
        "# Predictions\n",
        "prediction = nb_01.predict(X_test) #  Run Predictions"
      ],
      "metadata": {
        "id": "gAbMQedPtuXw"
      },
      "execution_count": null,
      "outputs": []
    },
    {
      "cell_type": "code",
      "source": [
        "from sklearn.metrics import accuracy_score\n",
        "from sklearn import metrics\n",
        "\n",
        "y=y_test.loc[:,['Type']]\n",
        "\n",
        "fpr, tpr, thresholds = metrics.roc_curve(y, prediction)\n",
        "accuracy_score(y, prediction)"
      ],
      "metadata": {
        "colab": {
          "base_uri": "https://localhost:8080/"
        },
        "id": "ngF4F0DBtx80",
        "outputId": "3e1b9139-7611-49ab-e9bf-609c92bc91ef"
      },
      "execution_count": null,
      "outputs": [
        {
          "output_type": "execute_result",
          "data": {
            "text/plain": [
              "0.6592750533049041"
            ]
          },
          "metadata": {},
          "execution_count": 27
        }
      ]
    },
    {
      "cell_type": "code",
      "source": [
        "#AUC\n",
        "metrics.auc(fpr, tpr)"
      ],
      "metadata": {
        "colab": {
          "base_uri": "https://localhost:8080/"
        },
        "id": "vQVwV90Tt1Hz",
        "outputId": "2a283298-29cd-4322-9c68-8afd953cad41"
      },
      "execution_count": null,
      "outputs": [
        {
          "output_type": "execute_result",
          "data": {
            "text/plain": [
              "0.7039675602175604"
            ]
          },
          "metadata": {},
          "execution_count": 28
        }
      ]
    },
    {
      "cell_type": "code",
      "source": [
        "#Confusion Matrix\n",
        "y_predict = pd.DataFrame(prediction,index = y_test.index, columns = ['predict'])\n",
        "cm_nb = confusion_matrix(y_test, y_predict)\n",
        "cm_nb_df = pd.DataFrame(cm_nb)\n",
        "cm_nb_df"
      ],
      "metadata": {
        "colab": {
          "base_uri": "https://localhost:8080/",
          "height": 112
        },
        "id": "uzUVGCyTt3-Z",
        "outputId": "01687b9c-e6ab-41bb-d943-b28860deb9f9"
      },
      "execution_count": null,
      "outputs": [
        {
          "output_type": "execute_result",
          "data": {
            "text/plain": [
              "     0     1\n",
              "0  464   121\n",
              "1  678  1082"
            ],
            "text/html": [
              "\n",
              "  <div id=\"df-57e0f5a9-a29c-4801-9348-f5cbde00e5f2\">\n",
              "    <div class=\"colab-df-container\">\n",
              "      <div>\n",
              "<style scoped>\n",
              "    .dataframe tbody tr th:only-of-type {\n",
              "        vertical-align: middle;\n",
              "    }\n",
              "\n",
              "    .dataframe tbody tr th {\n",
              "        vertical-align: top;\n",
              "    }\n",
              "\n",
              "    .dataframe thead th {\n",
              "        text-align: right;\n",
              "    }\n",
              "</style>\n",
              "<table border=\"1\" class=\"dataframe\">\n",
              "  <thead>\n",
              "    <tr style=\"text-align: right;\">\n",
              "      <th></th>\n",
              "      <th>0</th>\n",
              "      <th>1</th>\n",
              "    </tr>\n",
              "  </thead>\n",
              "  <tbody>\n",
              "    <tr>\n",
              "      <th>0</th>\n",
              "      <td>464</td>\n",
              "      <td>121</td>\n",
              "    </tr>\n",
              "    <tr>\n",
              "      <th>1</th>\n",
              "      <td>678</td>\n",
              "      <td>1082</td>\n",
              "    </tr>\n",
              "  </tbody>\n",
              "</table>\n",
              "</div>\n",
              "      <button class=\"colab-df-convert\" onclick=\"convertToInteractive('df-57e0f5a9-a29c-4801-9348-f5cbde00e5f2')\"\n",
              "              title=\"Convert this dataframe to an interactive table.\"\n",
              "              style=\"display:none;\">\n",
              "        \n",
              "  <svg xmlns=\"http://www.w3.org/2000/svg\" height=\"24px\"viewBox=\"0 0 24 24\"\n",
              "       width=\"24px\">\n",
              "    <path d=\"M0 0h24v24H0V0z\" fill=\"none\"/>\n",
              "    <path d=\"M18.56 5.44l.94 2.06.94-2.06 2.06-.94-2.06-.94-.94-2.06-.94 2.06-2.06.94zm-11 1L8.5 8.5l.94-2.06 2.06-.94-2.06-.94L8.5 2.5l-.94 2.06-2.06.94zm10 10l.94 2.06.94-2.06 2.06-.94-2.06-.94-.94-2.06-.94 2.06-2.06.94z\"/><path d=\"M17.41 7.96l-1.37-1.37c-.4-.4-.92-.59-1.43-.59-.52 0-1.04.2-1.43.59L10.3 9.45l-7.72 7.72c-.78.78-.78 2.05 0 2.83L4 21.41c.39.39.9.59 1.41.59.51 0 1.02-.2 1.41-.59l7.78-7.78 2.81-2.81c.8-.78.8-2.07 0-2.86zM5.41 20L4 18.59l7.72-7.72 1.47 1.35L5.41 20z\"/>\n",
              "  </svg>\n",
              "      </button>\n",
              "      \n",
              "  <style>\n",
              "    .colab-df-container {\n",
              "      display:flex;\n",
              "      flex-wrap:wrap;\n",
              "      gap: 12px;\n",
              "    }\n",
              "\n",
              "    .colab-df-convert {\n",
              "      background-color: #E8F0FE;\n",
              "      border: none;\n",
              "      border-radius: 50%;\n",
              "      cursor: pointer;\n",
              "      display: none;\n",
              "      fill: #1967D2;\n",
              "      height: 32px;\n",
              "      padding: 0 0 0 0;\n",
              "      width: 32px;\n",
              "    }\n",
              "\n",
              "    .colab-df-convert:hover {\n",
              "      background-color: #E2EBFA;\n",
              "      box-shadow: 0px 1px 2px rgba(60, 64, 67, 0.3), 0px 1px 3px 1px rgba(60, 64, 67, 0.15);\n",
              "      fill: #174EA6;\n",
              "    }\n",
              "\n",
              "    [theme=dark] .colab-df-convert {\n",
              "      background-color: #3B4455;\n",
              "      fill: #D2E3FC;\n",
              "    }\n",
              "\n",
              "    [theme=dark] .colab-df-convert:hover {\n",
              "      background-color: #434B5C;\n",
              "      box-shadow: 0px 1px 3px 1px rgba(0, 0, 0, 0.15);\n",
              "      filter: drop-shadow(0px 1px 2px rgba(0, 0, 0, 0.3));\n",
              "      fill: #FFFFFF;\n",
              "    }\n",
              "  </style>\n",
              "\n",
              "      <script>\n",
              "        const buttonEl =\n",
              "          document.querySelector('#df-57e0f5a9-a29c-4801-9348-f5cbde00e5f2 button.colab-df-convert');\n",
              "        buttonEl.style.display =\n",
              "          google.colab.kernel.accessAllowed ? 'block' : 'none';\n",
              "\n",
              "        async function convertToInteractive(key) {\n",
              "          const element = document.querySelector('#df-57e0f5a9-a29c-4801-9348-f5cbde00e5f2');\n",
              "          const dataTable =\n",
              "            await google.colab.kernel.invokeFunction('convertToInteractive',\n",
              "                                                     [key], {});\n",
              "          if (!dataTable) return;\n",
              "\n",
              "          const docLinkHtml = 'Like what you see? Visit the ' +\n",
              "            '<a target=\"_blank\" href=https://colab.research.google.com/notebooks/data_table.ipynb>data table notebook</a>'\n",
              "            + ' to learn more about interactive tables.';\n",
              "          element.innerHTML = '';\n",
              "          dataTable['output_type'] = 'display_data';\n",
              "          await google.colab.output.renderOutput(dataTable, element);\n",
              "          const docLink = document.createElement('div');\n",
              "          docLink.innerHTML = docLinkHtml;\n",
              "          element.appendChild(docLink);\n",
              "        }\n",
              "      </script>\n",
              "    </div>\n",
              "  </div>\n",
              "  "
            ]
          },
          "metadata": {},
          "execution_count": 29
        }
      ]
    },
    {
      "cell_type": "code",
      "source": [
        "b = pd.crosstab(index= y_test.index, columns=['predict'], margins = True)\n",
        "a = pd.crosstab(index= y_test.index,columns= count, normalize='columns')\n",
        "print(b)\n",
        "print(a)\n"
      ],
      "metadata": {
        "colab": {
          "base_uri": "https://localhost:8080/"
        },
        "id": "-PURK3pV8WIj",
        "outputId": "b8c968df-c3d6-4a2b-e73c-a466f2f4a653"
      },
      "execution_count": null,
      "outputs": [
        {
          "output_type": "stream",
          "name": "stdout",
          "text": [
            "col_0  predict   All\n",
            "row_0               \n",
            "0            1     1\n",
            "1            1     1\n",
            "2            1     1\n",
            "3            1     1\n",
            "4            1     1\n",
            "...        ...   ...\n",
            "2341         1     1\n",
            "2342         1     1\n",
            "2343         1     1\n",
            "2344         1     1\n",
            "All       2345  2345\n",
            "\n",
            "[2346 rows x 2 columns]\n",
            "col_0  <function count at 0x7f11d64d5830>\n",
            "row_0                                    \n",
            "0                                0.000426\n",
            "1                                0.000426\n",
            "2                                0.000426\n",
            "3                                0.000426\n",
            "4                                0.000426\n",
            "...                                   ...\n",
            "2340                             0.000426\n",
            "2341                             0.000426\n",
            "2342                             0.000426\n",
            "2343                             0.000426\n",
            "2344                             0.000426\n",
            "\n",
            "[2345 rows x 1 columns]\n"
          ]
        }
      ]
    },
    {
      "cell_type": "code",
      "source": [
        "#ROC Curve\n",
        "def plot_roc_curve(fpr, tpr):\n",
        "    plt.plot(fpr, tpr, color='orange', label='ROC')\n",
        "    plt.plot([0, 1], [0, 1], color='darkblue', linestyle='--')\n",
        "    plt.xlabel('False Positive Rate')\n",
        "    plt.ylabel('True Positive Rate')\n",
        "    plt.title('Receiver Operating Characteristic (ROC) Curve')\n",
        "    plt.legend()\n",
        "    plt.show()\n",
        "\n",
        "plot_roc_curve(fpr, tpr)"
      ],
      "metadata": {
        "colab": {
          "base_uri": "https://localhost:8080/",
          "height": 295
        },
        "id": "G25tFsYdt6iW",
        "outputId": "1111d8e9-cc5f-4f8c-ce0f-c669a818f516"
      },
      "execution_count": null,
      "outputs": [
        {
          "output_type": "display_data",
          "data": {
            "text/plain": [
              "<Figure size 432x288 with 1 Axes>"
            ],
            "image/png": "[encoded data removed]"
          },
          "metadata": {
            "needs_background": "light"
          }
        }
      ]
    },
    {
      "cell_type": "markdown",
      "source": [
        "Evaluate the Naïve Bayes model on the wines_test data set. Display the results in a contingency table. Edit the row and column names of the table to make the table more readable. Include a total row and column."
      ],
      "metadata": {
        "id": "kQO4cIsI7QTT"
      }
    },
    {
      "cell_type": "markdown",
      "metadata": {
        "id": "4wRE5d5ejtDr"
      },
      "source": [
        "Describe the following algorithms. How do they work?  What are the advantages and disadvantages of each? What type of problem is each algorithm good at, bad at):\n",
        "\n",
        "1. CART\n",
        "2. Random Forest\n",
        "3. Logistic Regression\n",
        "4. Neural Net\n",
        "5. Gradient Boosted Machines\n",
        "\n",
        "**Answer:** \n",
        "  CART stands for classification and regression trees, tree-based and rule-based models, and is the algorithm that forms the basis of the random forest algorithm. With CART, models that are tree-based consist of one or more if-then statements for the predictors that partition the data. Some of the advantages to CART is that the set of conditions that are generated can be easily implemented and interpretable by the user. CART models can also effectively handle numerous predictor types without the need to preprocess them. The disadvantages of CART are that the models can have instability and they provide a subpar predictive performance compared to other models. \n",
        "  \n",
        "The random forest algorithm uses bootstrapped aggregration to grow numerous trees using a boostrapped sample of the observations and the variables. While random forests effectively address many of the disavantages of CART, random forest models are extremely resource intensive, which can be a particular issue with larger datasets. \n",
        "\n",
        "A logsitic regression is a type of generalized linear model that assumes a link function called a logit to properly model the data to make up for the lack of a linear relationship. The advantages of logistic regression are that it is the best unbiased estimator for binary classification problems and it works well if you have a small amount of data. The disadvantage of logistic regression is that you have to assume a distribution to model your outcome, such as a binomial distribution, and if the distribution you assumed is incorrect, the model results are unreliable. \n",
        "\n",
        "A neural net is a machine learning algorithm that was built on the theory of threshold logic which was thought of as the way that human beings learn.The threshold logic theory states that humans think in a binary process where they take an input and make a decision based on a logic gate. Neural nets work similarly to logistic regressions but use a linking function called a perceptron instead of a logit, which allows the algorithm to learn by feeding the errors back through layers. Neural nets learn by going through this process as the algorithm gradually adjusts the error closer to the correct answer. The advantages of a neural net is that it produces high performance models and can be used for countless different problems such as computer vision, NLP, and image classification where other algorithms may not be as effective. The disadvantages to neural nets is that there could be overfitting issues where the model learns too well from the training data and will not generalize well to a future unknown dataset. Another disadvantage of neural nets is that you may run into computional issues as it is very resource intensive. \n",
        "\n",
        "Gradient boosted machines works through a \"boosted\" process where each new tree is is fit on a modified version of the original dataset and where each observation is assigned a new weight in the first tree. The following tree increases the weight of the hard to classify observations while also decreasing the weight of the observations that were more easily classified. Thus, gradient boosted machines \"boost\" each tree to improve on the predictors and repeats the process for a specified number of iterations. The final model that the gradient boosted machine algorithm produces is the weighted sum of the predictions made by the previous trees. The advantages of gradient boosted machines includes its high level of predictive performance, it can handle missing data well, and the user does not need to preprocess the data. The disadvantage is that it is extremely resource intensive and you may run into computional issues. Since algorithms like neural nets and gradient boosted machines are so complex, it is generally better practice to go with a simplier model if the prediction accuracy of the models are equivalent. "
      ]
    },
    {
      "cell_type": "markdown",
      "metadata": {
        "id": "Y0yiEpbXZZUz"
      },
      "source": [
        "Apply an algorithm of your choosing to the wine data that is NOT the Naive Bayes classifier.  Test it on the wine  data. Compare the results to your Naive Bayes results above.  Which one is better and why?\n",
        "\n",
        "**Answer:** I chose to apply the random forest algorithm to the wine data by building a random forest model as shown by the code below. The random forest is the better model as it has a higher AUC score at 0.7312 compared to 0.7039 for the naive bayes classifier model. "
      ]
    },
    {
      "cell_type": "code",
      "source": [
        "import h2o\n",
        "\n",
        "h2o.init()\n",
        "#h2o.shutdown()"
      ],
      "metadata": {
        "colab": {
          "base_uri": "https://localhost:8080/",
          "height": 520
        },
        "id": "uDeFhGp6o2BD",
        "outputId": "4f8ed3c6-93af-4e7b-cbdc-b22cb683631e"
      },
      "execution_count": null,
      "outputs": [
        {
          "output_type": "stream",
          "name": "stdout",
          "text": [
            "Checking whether there is an H2O instance running at http://localhost:54321 ..... not found.\n",
            "Attempting to start a local H2O server...\n",
            "  Java Version: openjdk version \"11.0.15\" 2022-04-19; OpenJDK Runtime Environment (build 11.0.15+10-Ubuntu-0ubuntu0.18.04.1); OpenJDK 64-Bit Server VM (build 11.0.15+10-Ubuntu-0ubuntu0.18.04.1, mixed mode, sharing)\n",
            "  Starting server from /usr/local/lib/python3.7/dist-packages/h2o/backend/bin/h2o.jar\n",
            "  Ice root: /tmp/tmpgndqgf5n\n",
            "  JVM stdout: /tmp/tmpgndqgf5n/h2o_unknownUser_started_from_python.out\n",
            "  JVM stderr: /tmp/tmpgndqgf5n/h2o_unknownUser_started_from_python.err\n",
            "  Server is running at http://127.0.0.1:54321\n",
            "Connecting to H2O server at http://127.0.0.1:54321 ... successful.\n"
          ]
        },
        {
          "output_type": "display_data",
          "data": {
            "text/plain": [
              "--------------------------  ----------------------------------\n",
              "H2O_cluster_uptime:         03 secs\n",
              "H2O_cluster_timezone:       Etc/UTC\n",
              "H2O_data_parsing_timezone:  UTC\n",
              "H2O_cluster_version:        3.36.1.2\n",
              "H2O_cluster_version_age:    26 days\n",
              "H2O_cluster_name:           H2O_from_python_unknownUser_4derjp\n",
              "H2O_cluster_total_nodes:    1\n",
              "H2O_cluster_free_memory:    3.172 Gb\n",
              "H2O_cluster_total_cores:    2\n",
              "H2O_cluster_allowed_cores:  2\n",
              "H2O_cluster_status:         locked, healthy\n",
              "H2O_connection_url:         http://127.0.0.1:54321\n",
              "H2O_connection_proxy:       {\"http\": null, \"https\": null}\n",
              "H2O_internal_security:      False\n",
              "Python_version:             3.7.13 final\n",
              "--------------------------  ----------------------------------"
            ],
            "text/html": [
              "<div style=\"overflow:auto\"><table style=\"width:50%\"><tr><td>H2O_cluster_uptime:</td>\n",
              "<td>03 secs</td></tr>\n",
              "<tr><td>H2O_cluster_timezone:</td>\n",
              "<td>Etc/UTC</td></tr>\n",
              "<tr><td>H2O_data_parsing_timezone:</td>\n",
              "<td>UTC</td></tr>\n",
              "<tr><td>H2O_cluster_version:</td>\n",
              "<td>3.36.1.2</td></tr>\n",
              "<tr><td>H2O_cluster_version_age:</td>\n",
              "<td>26 days </td></tr>\n",
              "<tr><td>H2O_cluster_name:</td>\n",
              "<td>H2O_from_python_unknownUser_4derjp</td></tr>\n",
              "<tr><td>H2O_cluster_total_nodes:</td>\n",
              "<td>1</td></tr>\n",
              "<tr><td>H2O_cluster_free_memory:</td>\n",
              "<td>3.172 Gb</td></tr>\n",
              "<tr><td>H2O_cluster_total_cores:</td>\n",
              "<td>2</td></tr>\n",
              "<tr><td>H2O_cluster_allowed_cores:</td>\n",
              "<td>2</td></tr>\n",
              "<tr><td>H2O_cluster_status:</td>\n",
              "<td>locked, healthy</td></tr>\n",
              "<tr><td>H2O_connection_url:</td>\n",
              "<td>http://127.0.0.1:54321</td></tr>\n",
              "<tr><td>H2O_connection_proxy:</td>\n",
              "<td>{\"http\": null, \"https\": null}</td></tr>\n",
              "<tr><td>H2O_internal_security:</td>\n",
              "<td>False</td></tr>\n",
              "<tr><td>Python_version:</td>\n",
              "<td>3.7.13 final</td></tr></table></div>"
            ]
          },
          "metadata": {}
        }
      ]
    },
    {
      "cell_type": "code",
      "source": [
        "# Creating a dataframe\n",
        "winetrain_pd = winetrain_p.to_pandas()\n",
        "winetest_pd = winetest_p.to_pandas()\n",
        "  \n",
        "# Converting variables to factor variables for modeling\n",
        "winetrain_pd['Type'],_=pd.factorize(winetrain_pd['Type'], sort=True)\n",
        "winetrain_pd['Alcohol_flag'],_=pd.factorize(winetrain_pd['Alcohol_flag'], sort=True)\n",
        "winetrain_pd['Sugar_flag'],_=pd.factorize(winetrain_pd['Sugar_flag'], sort=True)\n",
        "winetest_pd['Type'],_=pd.factorize(winetest_pd['Type'], sort=True)\n",
        "winetest_pd['Alcohol_flag'],_=pd.factorize(winetest_pd['Alcohol_flag'], sort=True)\n",
        "winetest_pd['Sugar_flag'],_=pd.factorize(winetest_pd['Sugar_flag'], sort=True)\n",
        "\n",
        "# Training and Test Split\n",
        "\n",
        "winetrain_pd_trn = winetrain_pd \n",
        "\n",
        "winetest_pd_tst = winetest_pd\n",
        "\n",
        "winetest_pd_tst.describe()"
      ],
      "metadata": {
        "colab": {
          "base_uri": "https://localhost:8080/",
          "height": 300
        },
        "id": "r0baCIR4pDmS",
        "outputId": "f59a0c7f-e37d-4445-d66f-ceb09cbf586c"
      },
      "execution_count": null,
      "outputs": [
        {
          "output_type": "execute_result",
          "data": {
            "text/plain": [
              "              Type  Alcohol_flag   Sugar_flag   count\n",
              "count  2345.000000   2345.000000  2345.000000  2345.0\n",
              "mean      0.750533      0.498934     0.486994     1.0\n",
              "std       0.432797      0.500106     0.499937     0.0\n",
              "min       0.000000      0.000000     0.000000     1.0\n",
              "25%       1.000000      0.000000     0.000000     1.0\n",
              "50%       1.000000      0.000000     0.000000     1.0\n",
              "75%       1.000000      1.000000     1.000000     1.0\n",
              "max       1.000000      1.000000     1.000000     1.0"
            ],
            "text/html": [
              "\n",
              "  <div id=\"df-fa6ab282-9f40-47f3-ad4a-ef58c3cd2154\">\n",
              "    <div class=\"colab-df-container\">\n",
              "      <div>\n",
              "<style scoped>\n",
              "    .dataframe tbody tr th:only-of-type {\n",
              "        vertical-align: middle;\n",
              "    }\n",
              "\n",
              "    .dataframe tbody tr th {\n",
              "        vertical-align: top;\n",
              "    }\n",
              "\n",
              "    .dataframe thead th {\n",
              "        text-align: right;\n",
              "    }\n",
              "</style>\n",
              "<table border=\"1\" class=\"dataframe\">\n",
              "  <thead>\n",
              "    <tr style=\"text-align: right;\">\n",
              "      <th></th>\n",
              "      <th>Type</th>\n",
              "      <th>Alcohol_flag</th>\n",
              "      <th>Sugar_flag</th>\n",
              "      <th>count</th>\n",
              "    </tr>\n",
              "  </thead>\n",
              "  <tbody>\n",
              "    <tr>\n",
              "      <th>count</th>\n",
              "      <td>2345.000000</td>\n",
              "      <td>2345.000000</td>\n",
              "      <td>2345.000000</td>\n",
              "      <td>2345.0</td>\n",
              "    </tr>\n",
              "    <tr>\n",
              "      <th>mean</th>\n",
              "      <td>0.750533</td>\n",
              "      <td>0.498934</td>\n",
              "      <td>0.486994</td>\n",
              "      <td>1.0</td>\n",
              "    </tr>\n",
              "    <tr>\n",
              "      <th>std</th>\n",
              "      <td>0.432797</td>\n",
              "      <td>0.500106</td>\n",
              "      <td>0.499937</td>\n",
              "      <td>0.0</td>\n",
              "    </tr>\n",
              "    <tr>\n",
              "      <th>min</th>\n",
              "      <td>0.000000</td>\n",
              "      <td>0.000000</td>\n",
              "      <td>0.000000</td>\n",
              "      <td>1.0</td>\n",
              "    </tr>\n",
              "    <tr>\n",
              "      <th>25%</th>\n",
              "      <td>1.000000</td>\n",
              "      <td>0.000000</td>\n",
              "      <td>0.000000</td>\n",
              "      <td>1.0</td>\n",
              "    </tr>\n",
              "    <tr>\n",
              "      <th>50%</th>\n",
              "      <td>1.000000</td>\n",
              "      <td>0.000000</td>\n",
              "      <td>0.000000</td>\n",
              "      <td>1.0</td>\n",
              "    </tr>\n",
              "    <tr>\n",
              "      <th>75%</th>\n",
              "      <td>1.000000</td>\n",
              "      <td>1.000000</td>\n",
              "      <td>1.000000</td>\n",
              "      <td>1.0</td>\n",
              "    </tr>\n",
              "    <tr>\n",
              "      <th>max</th>\n",
              "      <td>1.000000</td>\n",
              "      <td>1.000000</td>\n",
              "      <td>1.000000</td>\n",
              "      <td>1.0</td>\n",
              "    </tr>\n",
              "  </tbody>\n",
              "</table>\n",
              "</div>\n",
              "      <button class=\"colab-df-convert\" onclick=\"convertToInteractive('df-fa6ab282-9f40-47f3-ad4a-ef58c3cd2154')\"\n",
              "              title=\"Convert this dataframe to an interactive table.\"\n",
              "              style=\"display:none;\">\n",
              "        \n",
              "  <svg xmlns=\"http://www.w3.org/2000/svg\" height=\"24px\"viewBox=\"0 0 24 24\"\n",
              "       width=\"24px\">\n",
              "    <path d=\"M0 0h24v24H0V0z\" fill=\"none\"/>\n",
              "    <path d=\"M18.56 5.44l.94 2.06.94-2.06 2.06-.94-2.06-.94-.94-2.06-.94 2.06-2.06.94zm-11 1L8.5 8.5l.94-2.06 2.06-.94-2.06-.94L8.5 2.5l-.94 2.06-2.06.94zm10 10l.94 2.06.94-2.06 2.06-.94-2.06-.94-.94-2.06-.94 2.06-2.06.94z\"/><path d=\"M17.41 7.96l-1.37-1.37c-.4-.4-.92-.59-1.43-.59-.52 0-1.04.2-1.43.59L10.3 9.45l-7.72 7.72c-.78.78-.78 2.05 0 2.83L4 21.41c.39.39.9.59 1.41.59.51 0 1.02-.2 1.41-.59l7.78-7.78 2.81-2.81c.8-.78.8-2.07 0-2.86zM5.41 20L4 18.59l7.72-7.72 1.47 1.35L5.41 20z\"/>\n",
              "  </svg>\n",
              "      </button>\n",
              "      \n",
              "  <style>\n",
              "    .colab-df-container {\n",
              "      display:flex;\n",
              "      flex-wrap:wrap;\n",
              "      gap: 12px;\n",
              "    }\n",
              "\n",
              "    .colab-df-convert {\n",
              "      background-color: #E8F0FE;\n",
              "      border: none;\n",
              "      border-radius: 50%;\n",
              "      cursor: pointer;\n",
              "      display: none;\n",
              "      fill: #1967D2;\n",
              "      height: 32px;\n",
              "      padding: 0 0 0 0;\n",
              "      width: 32px;\n",
              "    }\n",
              "\n",
              "    .colab-df-convert:hover {\n",
              "      background-color: #E2EBFA;\n",
              "      box-shadow: 0px 1px 2px rgba(60, 64, 67, 0.3), 0px 1px 3px 1px rgba(60, 64, 67, 0.15);\n",
              "      fill: #174EA6;\n",
              "    }\n",
              "\n",
              "    [theme=dark] .colab-df-convert {\n",
              "      background-color: #3B4455;\n",
              "      fill: #D2E3FC;\n",
              "    }\n",
              "\n",
              "    [theme=dark] .colab-df-convert:hover {\n",
              "      background-color: #434B5C;\n",
              "      box-shadow: 0px 1px 3px 1px rgba(0, 0, 0, 0.15);\n",
              "      filter: drop-shadow(0px 1px 2px rgba(0, 0, 0, 0.3));\n",
              "      fill: #FFFFFF;\n",
              "    }\n",
              "  </style>\n",
              "\n",
              "      <script>\n",
              "        const buttonEl =\n",
              "          document.querySelector('#df-fa6ab282-9f40-47f3-ad4a-ef58c3cd2154 button.colab-df-convert');\n",
              "        buttonEl.style.display =\n",
              "          google.colab.kernel.accessAllowed ? 'block' : 'none';\n",
              "\n",
              "        async function convertToInteractive(key) {\n",
              "          const element = document.querySelector('#df-fa6ab282-9f40-47f3-ad4a-ef58c3cd2154');\n",
              "          const dataTable =\n",
              "            await google.colab.kernel.invokeFunction('convertToInteractive',\n",
              "                                                     [key], {});\n",
              "          if (!dataTable) return;\n",
              "\n",
              "          const docLinkHtml = 'Like what you see? Visit the ' +\n",
              "            '<a target=\"_blank\" href=https://colab.research.google.com/notebooks/data_table.ipynb>data table notebook</a>'\n",
              "            + ' to learn more about interactive tables.';\n",
              "          element.innerHTML = '';\n",
              "          dataTable['output_type'] = 'display_data';\n",
              "          await google.colab.output.renderOutput(dataTable, element);\n",
              "          const docLink = document.createElement('div');\n",
              "          docLink.innerHTML = docLinkHtml;\n",
              "          element.appendChild(docLink);\n",
              "        }\n",
              "      </script>\n",
              "    </div>\n",
              "  </div>\n",
              "  "
            ]
          },
          "metadata": {},
          "execution_count": 33
        }
      ]
    },
    {
      "cell_type": "code",
      "source": [
        "trn=winetrain_pd_trn.loc[:,['Type','Alcohol_flag','Sugar_flag']]\n",
        "tst=winetest_pd_tst.loc[:,['Type','Alcohol_flag','Sugar_flag']]"
      ],
      "metadata": {
        "id": "qQft1bDhpIQR"
      },
      "execution_count": null,
      "outputs": []
    },
    {
      "cell_type": "code",
      "source": [
        "# Loading data into h2o\n",
        "trn_h = h2o.H2OFrame(trn)\n",
        "tst_h = h2o.H2OFrame(tst)\n",
        "\n",
        "x = trn_h.columns\n",
        "y = \"Type\"\n",
        "x.remove(y)"
      ],
      "metadata": {
        "colab": {
          "base_uri": "https://localhost:8080/"
        },
        "id": "R9vx_hrpo-nc",
        "outputId": "b524d922-b963-4d67-9423-5da57ec4a112"
      },
      "execution_count": null,
      "outputs": [
        {
          "output_type": "stream",
          "name": "stdout",
          "text": [
            "Parse progress: |████████████████████████████████████████████████████████████████| (done) 100%\n",
            "Parse progress: |████████████████████████████████████████████████████████████████| (done) 100%\n"
          ]
        }
      ]
    },
    {
      "cell_type": "code",
      "source": [
        "trn_h[y] = trn_h[y].asfactor()\n",
        "tst_h[y] = tst_h[y].asfactor()"
      ],
      "metadata": {
        "id": "QVKkl4Y_pMxw"
      },
      "execution_count": null,
      "outputs": []
    },
    {
      "cell_type": "code",
      "source": [
        "# Random Forest hyperparameters\n",
        "hyper_params_rf = {'ntrees': [5, 10, 25,50,75,100],\n",
        "                  'max_depth': [10,15,20],\n",
        "                  'min_rows': [5,10,30,70,100],\n",
        "                  'sample_rate': [.95, .975,.99,.995,1],\n",
        "                  'col_sample_rate_per_tree': [.5, .6,.7,.8,.9,1],\n",
        "                  'nbins': [2,5,10,15,20],\n",
        "                  'mtries': [-1,-2,1,2,5,10],\n",
        "                  'nbins_cats': [64, 128, 256, 512,1024,1536]\n",
        "                   }\n",
        "\n",
        "search_criteria = {'strategy': 'RandomDiscrete', 'max_models': 10, 'seed': 1}   "
      ],
      "metadata": {
        "id": "3Y9VTmNIphm2"
      },
      "execution_count": null,
      "outputs": []
    },
    {
      "cell_type": "code",
      "source": [
        "# Train Random Forest Model\n",
        "from h2o.estimators import H2ORandomForestEstimator\n",
        "from h2o.grid.grid_search import H2OGridSearch\n",
        "\n",
        "rf_grid1 = H2OGridSearch(model=H2ORandomForestEstimator,\n",
        "                          grid_id='rf_grid1',\n",
        "                          hyper_params=hyper_params_rf,\n",
        "                          search_criteria=search_criteria\n",
        "                         )\n",
        "rf_grid1.train(x=x, y=y,\n",
        "                training_frame=trn_h,\n",
        "                stopping_metric = \"misclassification\", stopping_tolerance = 1e-3, \n",
        "\t\t\t\t\t\t\t  stopping_rounds = 3,\n",
        "\t\t\t\t\t\t\t  nfolds = 5, fold_assignment = \"Modulo\", \n",
        "\t\t\t\t\t\t\t  distribution = \"AUTO\",\n",
        "                balance_classes = True,\n",
        "\t\t\t\t\t\t\t  keep_cross_validation_predictions = True,\n",
        "                seed=1\n",
        "               )\n",
        "# Getting the grid results, sorted by validation error\n",
        "rf_gridperf1 = rf_grid1.get_grid(sort_by='err', decreasing=True)"
      ],
      "metadata": {
        "colab": {
          "base_uri": "https://localhost:8080/"
        },
        "id": "X_ssaoC7pkrP",
        "outputId": "c6c6ad55-5b59-4b84-c8b8-8d10fffdc827"
      },
      "execution_count": null,
      "outputs": [
        {
          "output_type": "stream",
          "name": "stdout",
          "text": [
            "drf Grid Build progress: |███████████████████████████████████████████████████████| (done) 100%\n",
            "Errors/Warnings building gridsearch model\n",
            "\n",
            "Hyper-parameter: col_sample_rate_per_tree, 0.7\n",
            "Hyper-parameter: max_depth, 10\n",
            "Hyper-parameter: min_rows, 10.0\n",
            "Hyper-parameter: mtries, 10\n",
            "Hyper-parameter: nbins, 5\n",
            "Hyper-parameter: nbins_cats, 256\n",
            "Hyper-parameter: ntrees, 75\n",
            "Hyper-parameter: sample_rate, 1.0\n",
            "failure_details: Illegal argument(s) for DRF model: rf_grid1_model_3.  Details: ERRR on field: _mtries: Computed mtries should be -1 or -2 or in interval [1,3[ but it is 10\n",
            "ERRR on field: _mtries: Computed mtries should be -1 or -2 or in interval [1,4[ but it is 10\n",
            "ERRR on field: _mtries: Computed mtries should be -1 or -2 or in interval [1,4[ but it is 10\n",
            "ERRR on field: _mtries: Computed mtries should be -1 or -2 or in interval [1,4[ but it is 10\n",
            "ERRR on field: _mtries: Computed mtries should be -1 or -2 or in interval [1,4[ but it is 10\n",
            "ERRR on field: _mtries: Computed mtries should be -1 or -2 or in interval [1,4[ but it is 10\n",
            "\n",
            "failure_stack_traces: water.exceptions.H2OModelBuilderIllegalArgumentException: Illegal argument(s) for DRF model: rf_grid1_model_3.  Details: ERRR on field: _mtries: Computed mtries should be -1 or -2 or in interval [1,3[ but it is 10\n",
            "ERRR on field: _mtries: Computed mtries should be -1 or -2 or in interval [1,4[ but it is 10\n",
            "ERRR on field: _mtries: Computed mtries should be -1 or -2 or in interval [1,4[ but it is 10\n",
            "ERRR on field: _mtries: Computed mtries should be -1 or -2 or in interval [1,4[ but it is 10\n",
            "ERRR on field: _mtries: Computed mtries should be -1 or -2 or in interval [1,4[ but it is 10\n",
            "ERRR on field: _mtries: Computed mtries should be -1 or -2 or in interval [1,4[ but it is 10\n",
            "\n",
            "\tat water.exceptions.H2OModelBuilderIllegalArgumentException.makeFromBuilder(H2OModelBuilderIllegalArgumentException.java:19)\n",
            "\tat hex.ModelBuilder.cv_makeFramesAndBuilders(ModelBuilder.java:809)\n",
            "\tat hex.ModelBuilder.computeCrossValidation(ModelBuilder.java:619)\n",
            "\tat hex.ModelBuilder.trainModelNested(ModelBuilder.java:432)\n",
            "\tat hex.ModelBuilder$TrainModelNestedRunnable.run(ModelBuilder.java:467)\n",
            "\tat water.H2O.runOnH2ONode(H2O.java:1565)\n",
            "\tat water.H2O.runOnH2ONode(H2O.java:1554)\n",
            "\tat hex.ModelBuilder.trainModelNested(ModelBuilder.java:447)\n",
            "\tat hex.grid.GridSearch.buildModel(GridSearch.java:584)\n",
            "\tat hex.grid.GridSearch.gridSearch(GridSearch.java:424)\n",
            "\tat hex.grid.GridSearch.access$900(GridSearch.java:70)\n",
            "\tat hex.grid.GridSearch$1.compute2(GridSearch.java:165)\n",
            "\tat water.H2O$H2OCountedCompleter.compute(H2O.java:1677)\n",
            "\tat jsr166y.CountedCompleter.exec(CountedCompleter.java:468)\n",
            "\tat jsr166y.ForkJoinTask.doExec(ForkJoinTask.java:263)\n",
            "\tat jsr166y.ForkJoinPool$WorkQueue.runTask(ForkJoinPool.java:976)\n",
            "\tat jsr166y.ForkJoinPool.runWorker(ForkJoinPool.java:1479)\n",
            "\tat jsr166y.ForkJoinWorkerThread.run(ForkJoinWorkerThread.java:104)\n",
            "\n",
            "\n",
            "Hyper-parameter: col_sample_rate_per_tree, 0.7\n",
            "Hyper-parameter: max_depth, 20\n",
            "Hyper-parameter: min_rows, 70.0\n",
            "Hyper-parameter: mtries, 10\n",
            "Hyper-parameter: nbins, 10\n",
            "Hyper-parameter: nbins_cats, 256\n",
            "Hyper-parameter: ntrees, 10\n",
            "Hyper-parameter: sample_rate, 1.0\n",
            "failure_details: Illegal argument(s) for DRF model: rf_grid1_model_4.  Details: ERRR on field: _mtries: Computed mtries should be -1 or -2 or in interval [1,3[ but it is 10\n",
            "ERRR on field: _mtries: Computed mtries should be -1 or -2 or in interval [1,4[ but it is 10\n",
            "ERRR on field: _mtries: Computed mtries should be -1 or -2 or in interval [1,4[ but it is 10\n",
            "ERRR on field: _mtries: Computed mtries should be -1 or -2 or in interval [1,4[ but it is 10\n",
            "ERRR on field: _mtries: Computed mtries should be -1 or -2 or in interval [1,4[ but it is 10\n",
            "ERRR on field: _mtries: Computed mtries should be -1 or -2 or in interval [1,4[ but it is 10\n",
            "\n",
            "failure_stack_traces: water.exceptions.H2OModelBuilderIllegalArgumentException: Illegal argument(s) for DRF model: rf_grid1_model_4.  Details: ERRR on field: _mtries: Computed mtries should be -1 or -2 or in interval [1,3[ but it is 10\n",
            "ERRR on field: _mtries: Computed mtries should be -1 or -2 or in interval [1,4[ but it is 10\n",
            "ERRR on field: _mtries: Computed mtries should be -1 or -2 or in interval [1,4[ but it is 10\n",
            "ERRR on field: _mtries: Computed mtries should be -1 or -2 or in interval [1,4[ but it is 10\n",
            "ERRR on field: _mtries: Computed mtries should be -1 or -2 or in interval [1,4[ but it is 10\n",
            "ERRR on field: _mtries: Computed mtries should be -1 or -2 or in interval [1,4[ but it is 10\n",
            "\n",
            "\tat water.exceptions.H2OModelBuilderIllegalArgumentException.makeFromBuilder(H2OModelBuilderIllegalArgumentException.java:19)\n",
            "\tat hex.ModelBuilder.cv_makeFramesAndBuilders(ModelBuilder.java:809)\n",
            "\tat hex.ModelBuilder.computeCrossValidation(ModelBuilder.java:619)\n",
            "\tat hex.ModelBuilder.trainModelNested(ModelBuilder.java:432)\n",
            "\tat hex.ModelBuilder$TrainModelNestedRunnable.run(ModelBuilder.java:467)\n",
            "\tat water.H2O.runOnH2ONode(H2O.java:1565)\n",
            "\tat water.H2O.runOnH2ONode(H2O.java:1554)\n",
            "\tat hex.ModelBuilder.trainModelNested(ModelBuilder.java:447)\n",
            "\tat hex.grid.GridSearch.buildModel(GridSearch.java:584)\n",
            "\tat hex.grid.GridSearch.gridSearch(GridSearch.java:424)\n",
            "\tat hex.grid.GridSearch.access$900(GridSearch.java:70)\n",
            "\tat hex.grid.GridSearch$1.compute2(GridSearch.java:165)\n",
            "\tat water.H2O$H2OCountedCompleter.compute(H2O.java:1677)\n",
            "\tat jsr166y.CountedCompleter.exec(CountedCompleter.java:468)\n",
            "\tat jsr166y.ForkJoinTask.doExec(ForkJoinTask.java:263)\n",
            "\tat jsr166y.ForkJoinPool$WorkQueue.runTask(ForkJoinPool.java:976)\n",
            "\tat jsr166y.ForkJoinPool.runWorker(ForkJoinPool.java:1479)\n",
            "\tat jsr166y.ForkJoinWorkerThread.run(ForkJoinWorkerThread.java:104)\n",
            "\n",
            "\n",
            "Hyper-parameter: col_sample_rate_per_tree, 0.9\n",
            "Hyper-parameter: max_depth, 10\n",
            "Hyper-parameter: min_rows, 70.0\n",
            "Hyper-parameter: mtries, 5\n",
            "Hyper-parameter: nbins, 2\n",
            "Hyper-parameter: nbins_cats, 256\n",
            "Hyper-parameter: ntrees, 10\n",
            "Hyper-parameter: sample_rate, 0.975\n",
            "failure_details: Illegal argument(s) for DRF model: rf_grid1_model_9.  Details: ERRR on field: _mtries: Computed mtries should be -1 or -2 or in interval [1,3[ but it is 5\n",
            "ERRR on field: _mtries: Computed mtries should be -1 or -2 or in interval [1,4[ but it is 5\n",
            "ERRR on field: _mtries: Computed mtries should be -1 or -2 or in interval [1,4[ but it is 5\n",
            "ERRR on field: _mtries: Computed mtries should be -1 or -2 or in interval [1,4[ but it is 5\n",
            "ERRR on field: _mtries: Computed mtries should be -1 or -2 or in interval [1,4[ but it is 5\n",
            "ERRR on field: _mtries: Computed mtries should be -1 or -2 or in interval [1,4[ but it is 5\n",
            "\n",
            "failure_stack_traces: water.exceptions.H2OModelBuilderIllegalArgumentException: Illegal argument(s) for DRF model: rf_grid1_model_9.  Details: ERRR on field: _mtries: Computed mtries should be -1 or -2 or in interval [1,3[ but it is 5\n",
            "ERRR on field: _mtries: Computed mtries should be -1 or -2 or in interval [1,4[ but it is 5\n",
            "ERRR on field: _mtries: Computed mtries should be -1 or -2 or in interval [1,4[ but it is 5\n",
            "ERRR on field: _mtries: Computed mtries should be -1 or -2 or in interval [1,4[ but it is 5\n",
            "ERRR on field: _mtries: Computed mtries should be -1 or -2 or in interval [1,4[ but it is 5\n",
            "ERRR on field: _mtries: Computed mtries should be -1 or -2 or in interval [1,4[ but it is 5\n",
            "\n",
            "\tat water.exceptions.H2OModelBuilderIllegalArgumentException.makeFromBuilder(H2OModelBuilderIllegalArgumentException.java:19)\n",
            "\tat hex.ModelBuilder.cv_makeFramesAndBuilders(ModelBuilder.java:809)\n",
            "\tat hex.ModelBuilder.computeCrossValidation(ModelBuilder.java:619)\n",
            "\tat hex.ModelBuilder.trainModelNested(ModelBuilder.java:432)\n",
            "\tat hex.ModelBuilder$TrainModelNestedRunnable.run(ModelBuilder.java:467)\n",
            "\tat water.H2O.runOnH2ONode(H2O.java:1565)\n",
            "\tat water.H2O.runOnH2ONode(H2O.java:1554)\n",
            "\tat hex.ModelBuilder.trainModelNested(ModelBuilder.java:447)\n",
            "\tat hex.grid.GridSearch.buildModel(GridSearch.java:584)\n",
            "\tat hex.grid.GridSearch.gridSearch(GridSearch.java:424)\n",
            "\tat hex.grid.GridSearch.access$900(GridSearch.java:70)\n",
            "\tat hex.grid.GridSearch$1.compute2(GridSearch.java:165)\n",
            "\tat water.H2O$H2OCountedCompleter.compute(H2O.java:1677)\n",
            "\tat jsr166y.CountedCompleter.exec(CountedCompleter.java:468)\n",
            "\tat jsr166y.ForkJoinTask.doExec(ForkJoinTask.java:263)\n",
            "\tat jsr166y.ForkJoinPool$WorkQueue.runTask(ForkJoinPool.java:976)\n",
            "\tat jsr166y.ForkJoinPool.runWorker(ForkJoinPool.java:1479)\n",
            "\tat jsr166y.ForkJoinWorkerThread.run(ForkJoinWorkerThread.java:104)\n",
            "\n",
            "\n"
          ]
        }
      ]
    },
    {
      "cell_type": "code",
      "source": [
        "#D. Evaluate\n",
        "best_rf1 = rf_gridperf1.models[0]\n",
        "\n",
        "#1. AUC\n",
        "best_rf_perf1 = best_rf1.model_performance(tst_h)\n",
        "best_rf_perf1.auc()"
      ],
      "metadata": {
        "colab": {
          "base_uri": "https://localhost:8080/"
        },
        "id": "LsEv-PwBpsLl",
        "outputId": "8ba82d3b-a085-4db6-8f71-06dca16a4b56"
      },
      "execution_count": null,
      "outputs": [
        {
          "output_type": "execute_result",
          "data": {
            "text/plain": [
              "0.731222804972805"
            ]
          },
          "metadata": {},
          "execution_count": 39
        }
      ]
    },
    {
      "cell_type": "code",
      "source": [
        "#2. Overall Performance metrics\n",
        "best_rf_perf1"
      ],
      "metadata": {
        "colab": {
          "base_uri": "https://localhost:8080/",
          "height": 1239
        },
        "id": "sWB2Tqc_pufx",
        "outputId": "3fc93f54-c719-4bc7-d9ba-cfa98b3f32ed"
      },
      "execution_count": null,
      "outputs": [
        {
          "output_type": "stream",
          "name": "stdout",
          "text": [
            "\n",
            "ModelMetricsBinomial: drf\n",
            "** Reported on test data. **\n",
            "\n",
            "MSE: 0.22267175156475738\n",
            "RMSE: 0.4718810777778204\n",
            "LogLoss: 0.6377079754832634\n",
            "Mean Per-Class Error: 0.5\n",
            "AUC: 0.731222804972805\n",
            "AUCPR: 0.8635312429160459\n",
            "Gini: 0.46244560994561\n",
            "\n",
            "Confusion Matrix (Act/Pred) for max f1 @ threshold = 0.4046921219144549: \n"
          ]
        },
        {
          "output_type": "display_data",
          "data": {
            "text/plain": [
              "            0       1   Error             Rate\n",
              "0      0  0.0   585.0     1.0    (585.0/585.0)\n",
              "1      1  0.0  1760.0     0.0     (0.0/1760.0)\n",
              "2  Total  0.0  2345.0  0.2495   (585.0/2345.0)"
            ],
            "text/html": [
              "\n",
              "  <div id=\"df-0318ab66-1183-4237-87d7-b0771b34638a\">\n",
              "    <div class=\"colab-df-container\">\n",
              "      <div>\n",
              "<style scoped>\n",
              "    .dataframe tbody tr th:only-of-type {\n",
              "        vertical-align: middle;\n",
              "    }\n",
              "\n",
              "    .dataframe tbody tr th {\n",
              "        vertical-align: top;\n",
              "    }\n",
              "\n",
              "    .dataframe thead th {\n",
              "        text-align: right;\n",
              "    }\n",
              "</style>\n",
              "<table border=\"1\" class=\"dataframe\">\n",
              "  <thead>\n",
              "    <tr style=\"text-align: right;\">\n",
              "      <th></th>\n",
              "      <th></th>\n",
              "      <th>0</th>\n",
              "      <th>1</th>\n",
              "      <th>Error</th>\n",
              "      <th>Rate</th>\n",
              "    </tr>\n",
              "  </thead>\n",
              "  <tbody>\n",
              "    <tr>\n",
              "      <th>0</th>\n",
              "      <td>0</td>\n",
              "      <td>0.0</td>\n",
              "      <td>585.0</td>\n",
              "      <td>1.0</td>\n",
              "      <td>(585.0/585.0)</td>\n",
              "    </tr>\n",
              "    <tr>\n",
              "      <th>1</th>\n",
              "      <td>1</td>\n",
              "      <td>0.0</td>\n",
              "      <td>1760.0</td>\n",
              "      <td>0.0</td>\n",
              "      <td>(0.0/1760.0)</td>\n",
              "    </tr>\n",
              "    <tr>\n",
              "      <th>2</th>\n",
              "      <td>Total</td>\n",
              "      <td>0.0</td>\n",
              "      <td>2345.0</td>\n",
              "      <td>0.2495</td>\n",
              "      <td>(585.0/2345.0)</td>\n",
              "    </tr>\n",
              "  </tbody>\n",
              "</table>\n",
              "</div>\n",
              "      <button class=\"colab-df-convert\" onclick=\"convertToInteractive('df-0318ab66-1183-4237-87d7-b0771b34638a')\"\n",
              "              title=\"Convert this dataframe to an interactive table.\"\n",
              "              style=\"display:none;\">\n",
              "        \n",
              "  <svg xmlns=\"http://www.w3.org/2000/svg\" height=\"24px\"viewBox=\"0 0 24 24\"\n",
              "       width=\"24px\">\n",
              "    <path d=\"M0 0h24v24H0V0z\" fill=\"none\"/>\n",
              "    <path d=\"M18.56 5.44l.94 2.06.94-2.06 2.06-.94-2.06-.94-.94-2.06-.94 2.06-2.06.94zm-11 1L8.5 8.5l.94-2.06 2.06-.94-2.06-.94L8.5 2.5l-.94 2.06-2.06.94zm10 10l.94 2.06.94-2.06 2.06-.94-2.06-.94-.94-2.06-.94 2.06-2.06.94z\"/><path d=\"M17.41 7.96l-1.37-1.37c-.4-.4-.92-.59-1.43-.59-.52 0-1.04.2-1.43.59L10.3 9.45l-7.72 7.72c-.78.78-.78 2.05 0 2.83L4 21.41c.39.39.9.59 1.41.59.51 0 1.02-.2 1.41-.59l7.78-7.78 2.81-2.81c.8-.78.8-2.07 0-2.86zM5.41 20L4 18.59l7.72-7.72 1.47 1.35L5.41 20z\"/>\n",
              "  </svg>\n",
              "      </button>\n",
              "      \n",
              "  <style>\n",
              "    .colab-df-container {\n",
              "      display:flex;\n",
              "      flex-wrap:wrap;\n",
              "      gap: 12px;\n",
              "    }\n",
              "\n",
              "    .colab-df-convert {\n",
              "      background-color: #E8F0FE;\n",
              "      border: none;\n",
              "      border-radius: 50%;\n",
              "      cursor: pointer;\n",
              "      display: none;\n",
              "      fill: #1967D2;\n",
              "      height: 32px;\n",
              "      padding: 0 0 0 0;\n",
              "      width: 32px;\n",
              "    }\n",
              "\n",
              "    .colab-df-convert:hover {\n",
              "      background-color: #E2EBFA;\n",
              "      box-shadow: 0px 1px 2px rgba(60, 64, 67, 0.3), 0px 1px 3px 1px rgba(60, 64, 67, 0.15);\n",
              "      fill: #174EA6;\n",
              "    }\n",
              "\n",
              "    [theme=dark] .colab-df-convert {\n",
              "      background-color: #3B4455;\n",
              "      fill: #D2E3FC;\n",
              "    }\n",
              "\n",
              "    [theme=dark] .colab-df-convert:hover {\n",
              "      background-color: #434B5C;\n",
              "      box-shadow: 0px 1px 3px 1px rgba(0, 0, 0, 0.15);\n",
              "      filter: drop-shadow(0px 1px 2px rgba(0, 0, 0, 0.3));\n",
              "      fill: #FFFFFF;\n",
              "    }\n",
              "  </style>\n",
              "\n",
              "      <script>\n",
              "        const buttonEl =\n",
              "          document.querySelector('#df-0318ab66-1183-4237-87d7-b0771b34638a button.colab-df-convert');\n",
              "        buttonEl.style.display =\n",
              "          google.colab.kernel.accessAllowed ? 'block' : 'none';\n",
              "\n",
              "        async function convertToInteractive(key) {\n",
              "          const element = document.querySelector('#df-0318ab66-1183-4237-87d7-b0771b34638a');\n",
              "          const dataTable =\n",
              "            await google.colab.kernel.invokeFunction('convertToInteractive',\n",
              "                                                     [key], {});\n",
              "          if (!dataTable) return;\n",
              "\n",
              "          const docLinkHtml = 'Like what you see? Visit the ' +\n",
              "            '<a target=\"_blank\" href=https://colab.research.google.com/notebooks/data_table.ipynb>data table notebook</a>'\n",
              "            + ' to learn more about interactive tables.';\n",
              "          element.innerHTML = '';\n",
              "          dataTable['output_type'] = 'display_data';\n",
              "          await google.colab.output.renderOutput(dataTable, element);\n",
              "          const docLink = document.createElement('div');\n",
              "          docLink.innerHTML = docLinkHtml;\n",
              "          element.appendChild(docLink);\n",
              "        }\n",
              "      </script>\n",
              "    </div>\n",
              "  </div>\n",
              "  "
            ]
          },
          "metadata": {}
        },
        {
          "output_type": "stream",
          "name": "stdout",
          "text": [
            "\n",
            "Maximum Metrics: Maximum metrics at their respective thresholds\n"
          ]
        },
        {
          "output_type": "display_data",
          "data": {
            "text/plain": [
              "                         metric  threshold        value  idx\n",
              "0                        max f1   0.404692     0.857491  3.0\n",
              "1                        max f2   0.404692     0.937666  3.0\n",
              "2                  max f0point5   0.461880     0.835150  2.0\n",
              "3                  max accuracy   0.461880     0.765885  2.0\n",
              "4                 max precision   0.566987     0.899418  1.0\n",
              "5                    max recall   0.404692     1.000000  3.0\n",
              "6               max specificity   0.624175     0.885470  0.0\n",
              "7              max absolute_mcc   0.566987     0.353150  1.0\n",
              "8    max min_per_class_accuracy   0.566987     0.614773  1.0\n",
              "9   max mean_per_class_accuracy   0.566987     0.703968  1.0\n",
              "10                      max tns   0.624175   518.000000  0.0\n",
              "11                      max fns   0.624175  1302.000000  0.0\n",
              "12                      max fps   0.404692   585.000000  3.0\n",
              "13                      max tps   0.404692  1760.000000  3.0\n",
              "14                      max tnr   0.624175     0.885470  0.0\n",
              "15                      max fnr   0.624175     0.739773  0.0\n",
              "16                      max fpr   0.404692     1.000000  3.0\n",
              "17                      max tpr   0.404692     1.000000  3.0"
            ],
            "text/html": [
              "\n",
              "  <div id=\"df-bd0b9da0-b7ef-4711-95be-c17690cb88ee\">\n",
              "    <div class=\"colab-df-container\">\n",
              "      <div>\n",
              "<style scoped>\n",
              "    .dataframe tbody tr th:only-of-type {\n",
              "        vertical-align: middle;\n",
              "    }\n",
              "\n",
              "    .dataframe tbody tr th {\n",
              "        vertical-align: top;\n",
              "    }\n",
              "\n",
              "    .dataframe thead th {\n",
              "        text-align: right;\n",
              "    }\n",
              "</style>\n",
              "<table border=\"1\" class=\"dataframe\">\n",
              "  <thead>\n",
              "    <tr style=\"text-align: right;\">\n",
              "      <th></th>\n",
              "      <th>metric</th>\n",
              "      <th>threshold</th>\n",
              "      <th>value</th>\n",
              "      <th>idx</th>\n",
              "    </tr>\n",
              "  </thead>\n",
              "  <tbody>\n",
              "    <tr>\n",
              "      <th>0</th>\n",
              "      <td>max f1</td>\n",
              "      <td>0.404692</td>\n",
              "      <td>0.857491</td>\n",
              "      <td>3.0</td>\n",
              "    </tr>\n",
              "    <tr>\n",
              "      <th>1</th>\n",
              "      <td>max f2</td>\n",
              "      <td>0.404692</td>\n",
              "      <td>0.937666</td>\n",
              "      <td>3.0</td>\n",
              "    </tr>\n",
              "    <tr>\n",
              "      <th>2</th>\n",
              "      <td>max f0point5</td>\n",
              "      <td>0.461880</td>\n",
              "      <td>0.835150</td>\n",
              "      <td>2.0</td>\n",
              "    </tr>\n",
              "    <tr>\n",
              "      <th>3</th>\n",
              "      <td>max accuracy</td>\n",
              "      <td>0.461880</td>\n",
              "      <td>0.765885</td>\n",
              "      <td>2.0</td>\n",
              "    </tr>\n",
              "    <tr>\n",
              "      <th>4</th>\n",
              "      <td>max precision</td>\n",
              "      <td>0.566987</td>\n",
              "      <td>0.899418</td>\n",
              "      <td>1.0</td>\n",
              "    </tr>\n",
              "    <tr>\n",
              "      <th>5</th>\n",
              "      <td>max recall</td>\n",
              "      <td>0.404692</td>\n",
              "      <td>1.000000</td>\n",
              "      <td>3.0</td>\n",
              "    </tr>\n",
              "    <tr>\n",
              "      <th>6</th>\n",
              "      <td>max specificity</td>\n",
              "      <td>0.624175</td>\n",
              "      <td>0.885470</td>\n",
              "      <td>0.0</td>\n",
              "    </tr>\n",
              "    <tr>\n",
              "      <th>7</th>\n",
              "      <td>max absolute_mcc</td>\n",
              "      <td>0.566987</td>\n",
              "      <td>0.353150</td>\n",
              "      <td>1.0</td>\n",
              "    </tr>\n",
              "    <tr>\n",
              "      <th>8</th>\n",
              "      <td>max min_per_class_accuracy</td>\n",
              "      <td>0.566987</td>\n",
              "      <td>0.614773</td>\n",
              "      <td>1.0</td>\n",
              "    </tr>\n",
              "    <tr>\n",
              "      <th>9</th>\n",
              "      <td>max mean_per_class_accuracy</td>\n",
              "      <td>0.566987</td>\n",
              "      <td>0.703968</td>\n",
              "      <td>1.0</td>\n",
              "    </tr>\n",
              "    <tr>\n",
              "      <th>10</th>\n",
              "      <td>max tns</td>\n",
              "      <td>0.624175</td>\n",
              "      <td>518.000000</td>\n",
              "      <td>0.0</td>\n",
              "    </tr>\n",
              "    <tr>\n",
              "      <th>11</th>\n",
              "      <td>max fns</td>\n",
              "      <td>0.624175</td>\n",
              "      <td>1302.000000</td>\n",
              "      <td>0.0</td>\n",
              "    </tr>\n",
              "    <tr>\n",
              "      <th>12</th>\n",
              "      <td>max fps</td>\n",
              "      <td>0.404692</td>\n",
              "      <td>585.000000</td>\n",
              "      <td>3.0</td>\n",
              "    </tr>\n",
              "    <tr>\n",
              "      <th>13</th>\n",
              "      <td>max tps</td>\n",
              "      <td>0.404692</td>\n",
              "      <td>1760.000000</td>\n",
              "      <td>3.0</td>\n",
              "    </tr>\n",
              "    <tr>\n",
              "      <th>14</th>\n",
              "      <td>max tnr</td>\n",
              "      <td>0.624175</td>\n",
              "      <td>0.885470</td>\n",
              "      <td>0.0</td>\n",
              "    </tr>\n",
              "    <tr>\n",
              "      <th>15</th>\n",
              "      <td>max fnr</td>\n",
              "      <td>0.624175</td>\n",
              "      <td>0.739773</td>\n",
              "      <td>0.0</td>\n",
              "    </tr>\n",
              "    <tr>\n",
              "      <th>16</th>\n",
              "      <td>max fpr</td>\n",
              "      <td>0.404692</td>\n",
              "      <td>1.000000</td>\n",
              "      <td>3.0</td>\n",
              "    </tr>\n",
              "    <tr>\n",
              "      <th>17</th>\n",
              "      <td>max tpr</td>\n",
              "      <td>0.404692</td>\n",
              "      <td>1.000000</td>\n",
              "      <td>3.0</td>\n",
              "    </tr>\n",
              "  </tbody>\n",
              "</table>\n",
              "</div>\n",
              "      <button class=\"colab-df-convert\" onclick=\"convertToInteractive('df-bd0b9da0-b7ef-4711-95be-c17690cb88ee')\"\n",
              "              title=\"Convert this dataframe to an interactive table.\"\n",
              "              style=\"display:none;\">\n",
              "        \n",
              "  <svg xmlns=\"http://www.w3.org/2000/svg\" height=\"24px\"viewBox=\"0 0 24 24\"\n",
              "       width=\"24px\">\n",
              "    <path d=\"M0 0h24v24H0V0z\" fill=\"none\"/>\n",
              "    <path d=\"M18.56 5.44l.94 2.06.94-2.06 2.06-.94-2.06-.94-.94-2.06-.94 2.06-2.06.94zm-11 1L8.5 8.5l.94-2.06 2.06-.94-2.06-.94L8.5 2.5l-.94 2.06-2.06.94zm10 10l.94 2.06.94-2.06 2.06-.94-2.06-.94-.94-2.06-.94 2.06-2.06.94z\"/><path d=\"M17.41 7.96l-1.37-1.37c-.4-.4-.92-.59-1.43-.59-.52 0-1.04.2-1.43.59L10.3 9.45l-7.72 7.72c-.78.78-.78 2.05 0 2.83L4 21.41c.39.39.9.59 1.41.59.51 0 1.02-.2 1.41-.59l7.78-7.78 2.81-2.81c.8-.78.8-2.07 0-2.86zM5.41 20L4 18.59l7.72-7.72 1.47 1.35L5.41 20z\"/>\n",
              "  </svg>\n",
              "      </button>\n",
              "      \n",
              "  <style>\n",
              "    .colab-df-container {\n",
              "      display:flex;\n",
              "      flex-wrap:wrap;\n",
              "      gap: 12px;\n",
              "    }\n",
              "\n",
              "    .colab-df-convert {\n",
              "      background-color: #E8F0FE;\n",
              "      border: none;\n",
              "      border-radius: 50%;\n",
              "      cursor: pointer;\n",
              "      display: none;\n",
              "      fill: #1967D2;\n",
              "      height: 32px;\n",
              "      padding: 0 0 0 0;\n",
              "      width: 32px;\n",
              "    }\n",
              "\n",
              "    .colab-df-convert:hover {\n",
              "      background-color: #E2EBFA;\n",
              "      box-shadow: 0px 1px 2px rgba(60, 64, 67, 0.3), 0px 1px 3px 1px rgba(60, 64, 67, 0.15);\n",
              "      fill: #174EA6;\n",
              "    }\n",
              "\n",
              "    [theme=dark] .colab-df-convert {\n",
              "      background-color: #3B4455;\n",
              "      fill: #D2E3FC;\n",
              "    }\n",
              "\n",
              "    [theme=dark] .colab-df-convert:hover {\n",
              "      background-color: #434B5C;\n",
              "      box-shadow: 0px 1px 3px 1px rgba(0, 0, 0, 0.15);\n",
              "      filter: drop-shadow(0px 1px 2px rgba(0, 0, 0, 0.3));\n",
              "      fill: #FFFFFF;\n",
              "    }\n",
              "  </style>\n",
              "\n",
              "      <script>\n",
              "        const buttonEl =\n",
              "          document.querySelector('#df-bd0b9da0-b7ef-4711-95be-c17690cb88ee button.colab-df-convert');\n",
              "        buttonEl.style.display =\n",
              "          google.colab.kernel.accessAllowed ? 'block' : 'none';\n",
              "\n",
              "        async function convertToInteractive(key) {\n",
              "          const element = document.querySelector('#df-bd0b9da0-b7ef-4711-95be-c17690cb88ee');\n",
              "          const dataTable =\n",
              "            await google.colab.kernel.invokeFunction('convertToInteractive',\n",
              "                                                     [key], {});\n",
              "          if (!dataTable) return;\n",
              "\n",
              "          const docLinkHtml = 'Like what you see? Visit the ' +\n",
              "            '<a target=\"_blank\" href=https://colab.research.google.com/notebooks/data_table.ipynb>data table notebook</a>'\n",
              "            + ' to learn more about interactive tables.';\n",
              "          element.innerHTML = '';\n",
              "          dataTable['output_type'] = 'display_data';\n",
              "          await google.colab.output.renderOutput(dataTable, element);\n",
              "          const docLink = document.createElement('div');\n",
              "          docLink.innerHTML = docLinkHtml;\n",
              "          element.appendChild(docLink);\n",
              "        }\n",
              "      </script>\n",
              "    </div>\n",
              "  </div>\n",
              "  "
            ]
          },
          "metadata": {}
        },
        {
          "output_type": "stream",
          "name": "stdout",
          "text": [
            "\n",
            "Gains/Lift Table: Avg response rate: 75.05 %, avg score: 51.66 %\n"
          ]
        },
        {
          "output_type": "display_data",
          "data": {
            "text/plain": [
              "   group  cumulative_data_fraction  lower_threshold      lift  \\\n",
              "0      1                  0.223881         0.624175  1.162348   \n",
              "1      2                  0.513006         0.566987  1.226267   \n",
              "2      3                  0.790192         0.461880  0.922421   \n",
              "3      4                  1.000000         0.404692  0.617447   \n",
              "\n",
              "   cumulative_lift  response_rate     score  cumulative_response_rate  \\\n",
              "0         1.162348       0.872381  0.624175                  0.872381   \n",
              "1         1.198372       0.920354  0.566987                  0.899418   \n",
              "2         1.101574       0.692308  0.461880                  0.826767   \n",
              "3         1.000000       0.463415  0.404692                  0.750533   \n",
              "\n",
              "   cumulative_score  capture_rate  cumulative_capture_rate       gain  \\\n",
              "0          0.624175      0.260227                 0.260227  16.234848   \n",
              "1          0.591944      0.354545                 0.614773  22.626710   \n",
              "2          0.546320      0.255682                 0.870455  -7.757867   \n",
              "3          0.516605      0.129545                 1.000000 -38.255266   \n",
              "\n",
              "   cumulative_gain  kolmogorov_smirnov  \n",
              "0        16.234848            0.145697  \n",
              "1        19.837244            0.407935  \n",
              "2        10.157362            0.321737  \n",
              "3         0.000000            0.000000  "
            ],
            "text/html": [
              "\n",
              "  <div id=\"df-561c4cf5-7d53-4f3f-a0a7-b0cab303cb29\">\n",
              "    <div class=\"colab-df-container\">\n",
              "      <div>\n",
              "<style scoped>\n",
              "    .dataframe tbody tr th:only-of-type {\n",
              "        vertical-align: middle;\n",
              "    }\n",
              "\n",
              "    .dataframe tbody tr th {\n",
              "        vertical-align: top;\n",
              "    }\n",
              "\n",
              "    .dataframe thead th {\n",
              "        text-align: right;\n",
              "    }\n",
              "</style>\n",
              "<table border=\"1\" class=\"dataframe\">\n",
              "  <thead>\n",
              "    <tr style=\"text-align: right;\">\n",
              "      <th></th>\n",
              "      <th>group</th>\n",
              "      <th>cumulative_data_fraction</th>\n",
              "      <th>lower_threshold</th>\n",
              "      <th>lift</th>\n",
              "      <th>cumulative_lift</th>\n",
              "      <th>response_rate</th>\n",
              "      <th>score</th>\n",
              "      <th>cumulative_response_rate</th>\n",
              "      <th>cumulative_score</th>\n",
              "      <th>capture_rate</th>\n",
              "      <th>cumulative_capture_rate</th>\n",
              "      <th>gain</th>\n",
              "      <th>cumulative_gain</th>\n",
              "      <th>kolmogorov_smirnov</th>\n",
              "    </tr>\n",
              "  </thead>\n",
              "  <tbody>\n",
              "    <tr>\n",
              "      <th>0</th>\n",
              "      <td>1</td>\n",
              "      <td>0.223881</td>\n",
              "      <td>0.624175</td>\n",
              "      <td>1.162348</td>\n",
              "      <td>1.162348</td>\n",
              "      <td>0.872381</td>\n",
              "      <td>0.624175</td>\n",
              "      <td>0.872381</td>\n",
              "      <td>0.624175</td>\n",
              "      <td>0.260227</td>\n",
              "      <td>0.260227</td>\n",
              "      <td>16.234848</td>\n",
              "      <td>16.234848</td>\n",
              "      <td>0.145697</td>\n",
              "    </tr>\n",
              "    <tr>\n",
              "      <th>1</th>\n",
              "      <td>2</td>\n",
              "      <td>0.513006</td>\n",
              "      <td>0.566987</td>\n",
              "      <td>1.226267</td>\n",
              "      <td>1.198372</td>\n",
              "      <td>0.920354</td>\n",
              "      <td>0.566987</td>\n",
              "      <td>0.899418</td>\n",
              "      <td>0.591944</td>\n",
              "      <td>0.354545</td>\n",
              "      <td>0.614773</td>\n",
              "      <td>22.626710</td>\n",
              "      <td>19.837244</td>\n",
              "      <td>0.407935</td>\n",
              "    </tr>\n",
              "    <tr>\n",
              "      <th>2</th>\n",
              "      <td>3</td>\n",
              "      <td>0.790192</td>\n",
              "      <td>0.461880</td>\n",
              "      <td>0.922421</td>\n",
              "      <td>1.101574</td>\n",
              "      <td>0.692308</td>\n",
              "      <td>0.461880</td>\n",
              "      <td>0.826767</td>\n",
              "      <td>0.546320</td>\n",
              "      <td>0.255682</td>\n",
              "      <td>0.870455</td>\n",
              "      <td>-7.757867</td>\n",
              "      <td>10.157362</td>\n",
              "      <td>0.321737</td>\n",
              "    </tr>\n",
              "    <tr>\n",
              "      <th>3</th>\n",
              "      <td>4</td>\n",
              "      <td>1.000000</td>\n",
              "      <td>0.404692</td>\n",
              "      <td>0.617447</td>\n",
              "      <td>1.000000</td>\n",
              "      <td>0.463415</td>\n",
              "      <td>0.404692</td>\n",
              "      <td>0.750533</td>\n",
              "      <td>0.516605</td>\n",
              "      <td>0.129545</td>\n",
              "      <td>1.000000</td>\n",
              "      <td>-38.255266</td>\n",
              "      <td>0.000000</td>\n",
              "      <td>0.000000</td>\n",
              "    </tr>\n",
              "  </tbody>\n",
              "</table>\n",
              "</div>\n",
              "      <button class=\"colab-df-convert\" onclick=\"convertToInteractive('df-561c4cf5-7d53-4f3f-a0a7-b0cab303cb29')\"\n",
              "              title=\"Convert this dataframe to an interactive table.\"\n",
              "              style=\"display:none;\">\n",
              "        \n",
              "  <svg xmlns=\"http://www.w3.org/2000/svg\" height=\"24px\"viewBox=\"0 0 24 24\"\n",
              "       width=\"24px\">\n",
              "    <path d=\"M0 0h24v24H0V0z\" fill=\"none\"/>\n",
              "    <path d=\"M18.56 5.44l.94 2.06.94-2.06 2.06-.94-2.06-.94-.94-2.06-.94 2.06-2.06.94zm-11 1L8.5 8.5l.94-2.06 2.06-.94-2.06-.94L8.5 2.5l-.94 2.06-2.06.94zm10 10l.94 2.06.94-2.06 2.06-.94-2.06-.94-.94-2.06-.94 2.06-2.06.94z\"/><path d=\"M17.41 7.96l-1.37-1.37c-.4-.4-.92-.59-1.43-.59-.52 0-1.04.2-1.43.59L10.3 9.45l-7.72 7.72c-.78.78-.78 2.05 0 2.83L4 21.41c.39.39.9.59 1.41.59.51 0 1.02-.2 1.41-.59l7.78-7.78 2.81-2.81c.8-.78.8-2.07 0-2.86zM5.41 20L4 18.59l7.72-7.72 1.47 1.35L5.41 20z\"/>\n",
              "  </svg>\n",
              "      </button>\n",
              "      \n",
              "  <style>\n",
              "    .colab-df-container {\n",
              "      display:flex;\n",
              "      flex-wrap:wrap;\n",
              "      gap: 12px;\n",
              "    }\n",
              "\n",
              "    .colab-df-convert {\n",
              "      background-color: #E8F0FE;\n",
              "      border: none;\n",
              "      border-radius: 50%;\n",
              "      cursor: pointer;\n",
              "      display: none;\n",
              "      fill: #1967D2;\n",
              "      height: 32px;\n",
              "      padding: 0 0 0 0;\n",
              "      width: 32px;\n",
              "    }\n",
              "\n",
              "    .colab-df-convert:hover {\n",
              "      background-color: #E2EBFA;\n",
              "      box-shadow: 0px 1px 2px rgba(60, 64, 67, 0.3), 0px 1px 3px 1px rgba(60, 64, 67, 0.15);\n",
              "      fill: #174EA6;\n",
              "    }\n",
              "\n",
              "    [theme=dark] .colab-df-convert {\n",
              "      background-color: #3B4455;\n",
              "      fill: #D2E3FC;\n",
              "    }\n",
              "\n",
              "    [theme=dark] .colab-df-convert:hover {\n",
              "      background-color: #434B5C;\n",
              "      box-shadow: 0px 1px 3px 1px rgba(0, 0, 0, 0.15);\n",
              "      filter: drop-shadow(0px 1px 2px rgba(0, 0, 0, 0.3));\n",
              "      fill: #FFFFFF;\n",
              "    }\n",
              "  </style>\n",
              "\n",
              "      <script>\n",
              "        const buttonEl =\n",
              "          document.querySelector('#df-561c4cf5-7d53-4f3f-a0a7-b0cab303cb29 button.colab-df-convert');\n",
              "        buttonEl.style.display =\n",
              "          google.colab.kernel.accessAllowed ? 'block' : 'none';\n",
              "\n",
              "        async function convertToInteractive(key) {\n",
              "          const element = document.querySelector('#df-561c4cf5-7d53-4f3f-a0a7-b0cab303cb29');\n",
              "          const dataTable =\n",
              "            await google.colab.kernel.invokeFunction('convertToInteractive',\n",
              "                                                     [key], {});\n",
              "          if (!dataTable) return;\n",
              "\n",
              "          const docLinkHtml = 'Like what you see? Visit the ' +\n",
              "            '<a target=\"_blank\" href=https://colab.research.google.com/notebooks/data_table.ipynb>data table notebook</a>'\n",
              "            + ' to learn more about interactive tables.';\n",
              "          element.innerHTML = '';\n",
              "          dataTable['output_type'] = 'display_data';\n",
              "          await google.colab.output.renderOutput(dataTable, element);\n",
              "          const docLink = document.createElement('div');\n",
              "          docLink.innerHTML = docLinkHtml;\n",
              "          element.appendChild(docLink);\n",
              "        }\n",
              "      </script>\n",
              "    </div>\n",
              "  </div>\n",
              "  "
            ]
          },
          "metadata": {}
        },
        {
          "output_type": "stream",
          "name": "stdout",
          "text": [
            "\n"
          ]
        },
        {
          "output_type": "execute_result",
          "data": {
            "text/plain": [
              ""
            ]
          },
          "metadata": {},
          "execution_count": 40
        }
      ]
    },
    {
      "cell_type": "code",
      "source": [
        "#3. ROC \n",
        "best_rf_perf1.plot(type='roc')"
      ],
      "metadata": {
        "colab": {
          "base_uri": "https://localhost:8080/",
          "height": 332
        },
        "id": "Bm25zn3dpyhO",
        "outputId": "7790865c-2e79-45e5-f61b-9a186cf9fe3d"
      },
      "execution_count": null,
      "outputs": [
        {
          "output_type": "display_data",
          "data": {
            "text/plain": [
              "<Figure size 432x288 with 1 Axes>"
            ],
            "image/png": "[encoded data removed]"
          },
          "metadata": {
            "needs_background": "light"
          }
        },
        {
          "output_type": "execute_result",
          "data": {
            "text/plain": [
              "([0.11452991452991453, 0.20683760683760682, 0.5487179487179488, 1.0],\n",
              " [0.26022727272727275, 0.6147727272727272, 0.8704545454545455, 1.0])"
            ]
          },
          "metadata": {},
          "execution_count": 41
        }
      ]
    }
  ]
}